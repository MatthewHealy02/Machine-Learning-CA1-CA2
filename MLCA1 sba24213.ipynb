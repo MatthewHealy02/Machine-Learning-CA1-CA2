{
 "cells": [
  {
   "cell_type": "markdown",
   "id": "528c16ac-6665-4917-87b5-9a1daa0a3d8a",
   "metadata": {},
   "source": [
    "# package imports..."
   ]
  },
  {
   "cell_type": "code",
   "execution_count": 1,
   "id": "f88edb6b-8d01-40c3-a14f-87b1a3855501",
   "metadata": {},
   "outputs": [],
   "source": [
    "import pandas as pd\n",
    "import numpy as np\n",
    "from sklearn.preprocessing import LabelEncoder, StandardScaler\n",
    "from sklearn.decomposition import PCA\n",
    "from sklearn.model_selection import train_test_split, cross_val_score, KFold, GridSearchCV\n",
    "from sklearn.ensemble import RandomForestRegressor\n",
    "from sklearn.svm import SVC\n",
    "from sklearn.metrics import mean_absolute_error, r2_score, accuracy_score, classification_report, confusion_matrix\n",
    "import seaborn as sns\n",
    "import matplotlib.pyplot as plt\n",
    "import time\n",
    "import warnings\n",
    "\n",
    "warnings.filterwarnings('ignore')"
   ]
  },
  {
   "cell_type": "markdown",
   "id": "5ca7335d-8da7-4ea9-a088-614e58c93227",
   "metadata": {},
   "source": [
    "# dataset CSV imports..."
   ]
  },
  {
   "cell_type": "code",
   "execution_count": 2,
   "id": "b787a768-2e6f-4c4e-94d7-edec0df3ffae",
   "metadata": {},
   "outputs": [],
   "source": [
    "# I will be using the student_mat.csv dataset from the student performance\n",
    "# dataset from the UCI machine learning repository. The dataset contains \n",
    "# academic performance data in addition to various other datapoints \n",
    "# which describe the socio-economic backgrounds of each respective student;\n",
    "\n",
    "# the points in this csv are divided by semicolons instead of commas, therefore\n",
    "# I must set the {delimiter} parameter to {';'} in order to correctly import the csv;\n",
    "\n",
    "df_maths = pd.read_csv('student_mat.csv', delimiter = ';')"
   ]
  },
  {
   "cell_type": "markdown",
   "id": "f93ecd0b-d430-4d4c-8db1-e1de12e5c204",
   "metadata": {},
   "source": [
    "# functions..."
   ]
  },
  {
   "cell_type": "code",
   "execution_count": 3,
   "id": "0038c4cc-8207-4173-8cc7-c26f90295016",
   "metadata": {},
   "outputs": [],
   "source": [
    "# this function describes the unique datapoints found within each \n",
    "# categorical column, this will be essential for effective encoding\n",
    "# of categorical data during the preprocessing phase;\n",
    "\n",
    "def CATEGORICAL_DATAPOINTS(df,\n",
    "                           C1 = 'school', \n",
    "                           C2 = 'sex', \n",
    "                           C3 = 'address', \n",
    "                           C4 = 'famsize', \n",
    "                           C5 = 'Pstatus', \n",
    "                           C6 = 'Mjob', \n",
    "                           C7 = 'Fjob', \n",
    "                           C8 = 'reason', \n",
    "                           C9 = 'guardian', \n",
    "                           C10 = 'schoolsup',\n",
    "                           C11 = 'famsup',\n",
    "                           C12 = 'paid',\n",
    "                           C13 = 'activities',\n",
    "                           C14 = 'nursery',\n",
    "                           C15 = 'higher',\n",
    "                           C16 = 'internet', \n",
    "                           C17 = 'romantic'):   \n",
    "\n",
    "    dpoints = [C1, \n",
    "               C2, \n",
    "               C3, \n",
    "               C4, \n",
    "               C5, \n",
    "               C6, \n",
    "               C7, \n",
    "               C8, \n",
    "               C9, \n",
    "               C10,\n",
    "               C11,\n",
    "               C12,\n",
    "               C13,\n",
    "               C14,\n",
    "               C15,\n",
    "               C16, \n",
    "               C17]\n",
    "\n",
    "    # the list is iterated through with a for loop...\n",
    "\n",
    "    print(' the unique points contained within each categorical column are as follows... ')\n",
    "    for i in dpoints:\n",
    "\n",
    "        # ...and unique values are gathered and printed using pandas method {df[i].unique()} where\n",
    "        # i == the current categorical column iteration;\n",
    "        \n",
    "        print()\n",
    "        print(f'{i}')\n",
    "        print(f'{df[f'{i}'].unique()}')\n",
    "        print()\n",
    "\n",
    "# this function generates a seaborn scatterplot, as I will be\n",
    "# generating muultiple of these during the EDA phase, utilising\n",
    "# a function ensures conciseness and readability of the code;\n",
    "\n",
    "def SCATTERPLOT(x_, y_, hue_ = 'Final Grade',\n",
    "                        col = 'bright', \n",
    "                        df = df_maths):\n",
    "\n",
    "    \"\"\" a function to generate a scatterplot, in this\n",
    "    case, parameter {hue} defaults to {'species'}, but \n",
    "    the function can be utilised to create a scatterplot\n",
    "    with any combination of key data points \"\"\"\n",
    "    \n",
    "    sns.scatterplot(x = x_,\n",
    "                    y = y_,\n",
    "                    hue = hue_, \n",
    "                    palette = col,\n",
    "                    data = df)\n",
    "    \n",
    "    plt.legend(bbox_to_anchor = (1, 1), loc = 2)\n",
    "    plt.show()\n",
    "\n",
    "# this function generates a bar graph which will be used to display\n",
    "# a hierarchy of feature importance determined by the regressive model \n",
    "# during the evaluation and results phase;\n",
    "\n",
    "def DISPLAY_IMPORTANCE(model,\n",
    "                       df_features, \n",
    "                       train_features, \n",
    "                       title, \n",
    "                       alignment, \n",
    "                       label):\n",
    "\n",
    "    # I will be scaling data before training the regressive model, as such, \n",
    "    # this scaled data must be converted back to a pandas dataframe in order\n",
    "    # for the results to be effectively displayed, this function first reconstructs\n",
    "    # the dataframe from the given scaled numpy array;\n",
    "    \n",
    "    reconstructed_df = pd.DataFrame(train_features, columns = df_features.columns)\n",
    "    \n",
    "    # feature importances are then determined with attribute {.feature_importances_} \n",
    "    # and stored in the variable {important_features};\n",
    "    \n",
    "    important_features = model.feature_importances_\n",
    "    \n",
    "    # Important features are then sorted in descending order to \n",
    "    # increase graph readability; \n",
    "    \n",
    "    indices = np.argsort(important_features)[::-1]\n",
    "    \n",
    "    # Only the features used by the model are plotted;\n",
    "    \n",
    "    plt.figure(figsize = (10, 6))\n",
    "    plt.title(title)\n",
    "    \n",
    "    # The important features are then plotted;\n",
    "    \n",
    "    plt.barh(range(len(important_features)), important_features[indices], align = alignment)\n",
    "    \n",
    "    # The column names from the reconstructed pandas dataframe are then used\n",
    "    # to label the graph;\n",
    "    \n",
    "    plt.yticks(range(len(important_features)), reconstructed_df.columns[indices])\n",
    "    plt.xlabel(label)\n",
    "    \n",
    "    plt.show()\n",
    "\n",
    "# a function to create a confusion matrix which will be used in the \n",
    "# evaluation / results phase for the classification model;\n",
    "\n",
    "def CONFUSION_MATRIX(target, \n",
    "                     prediction,\n",
    "                     label_x,\n",
    "                     label_y,\n",
    "                     colour = 'PuRd',\n",
    "                     title = 'CONFUSION MATRIX'):\n",
    "\n",
    "    # confusion matrix is instantiated to variable {matrix};\n",
    "    \n",
    "    matrix = confusion_matrix(target, prediction)\n",
    "    \n",
    "    plt.figure(figsize = (8, 8))\n",
    "\n",
    "    # a seaborn heatmap is used to display the confusion matrix;\n",
    "    \n",
    "    sns.heatmap(matrix, \n",
    "                annot = True, \n",
    "                fmt = 'd', \n",
    "                cmap = colour, \n",
    "                xticklabels = 'T',\n",
    "                yticklabels = 'P',)\n",
    "    \n",
    "    plt.title(title)\n",
    "    plt.xlabel(label_x)\n",
    "    plt.ylabel(label_y)\n",
    "    plt.show()"
   ]
  },
  {
   "cell_type": "markdown",
   "id": "53b3d060-34c6-4cf5-8073-cf3275e62cf5",
   "metadata": {},
   "source": [
    "# Data PreProcessing..."
   ]
  },
  {
   "cell_type": "code",
   "execution_count": 4,
   "id": "10395b52-da61-4f50-860e-cf601ad45576",
   "metadata": {},
   "outputs": [
    {
     "data": {
      "text/html": [
       "<div>\n",
       "<style scoped>\n",
       "    .dataframe tbody tr th:only-of-type {\n",
       "        vertical-align: middle;\n",
       "    }\n",
       "\n",
       "    .dataframe tbody tr th {\n",
       "        vertical-align: top;\n",
       "    }\n",
       "\n",
       "    .dataframe thead th {\n",
       "        text-align: right;\n",
       "    }\n",
       "</style>\n",
       "<table border=\"1\" class=\"dataframe\">\n",
       "  <thead>\n",
       "    <tr style=\"text-align: right;\">\n",
       "      <th></th>\n",
       "      <th>school</th>\n",
       "      <th>sex</th>\n",
       "      <th>age</th>\n",
       "      <th>address</th>\n",
       "      <th>famsize</th>\n",
       "      <th>Pstatus</th>\n",
       "      <th>Medu</th>\n",
       "      <th>Fedu</th>\n",
       "      <th>Mjob</th>\n",
       "      <th>Fjob</th>\n",
       "      <th>...</th>\n",
       "      <th>famrel</th>\n",
       "      <th>freetime</th>\n",
       "      <th>goout</th>\n",
       "      <th>Dalc</th>\n",
       "      <th>Walc</th>\n",
       "      <th>health</th>\n",
       "      <th>absences</th>\n",
       "      <th>G1</th>\n",
       "      <th>G2</th>\n",
       "      <th>G3</th>\n",
       "    </tr>\n",
       "  </thead>\n",
       "  <tbody>\n",
       "    <tr>\n",
       "      <th>0</th>\n",
       "      <td>GP</td>\n",
       "      <td>F</td>\n",
       "      <td>18</td>\n",
       "      <td>U</td>\n",
       "      <td>GT3</td>\n",
       "      <td>A</td>\n",
       "      <td>4</td>\n",
       "      <td>4</td>\n",
       "      <td>at_home</td>\n",
       "      <td>teacher</td>\n",
       "      <td>...</td>\n",
       "      <td>4</td>\n",
       "      <td>3</td>\n",
       "      <td>4</td>\n",
       "      <td>1</td>\n",
       "      <td>1</td>\n",
       "      <td>3</td>\n",
       "      <td>6</td>\n",
       "      <td>5</td>\n",
       "      <td>6</td>\n",
       "      <td>6</td>\n",
       "    </tr>\n",
       "    <tr>\n",
       "      <th>1</th>\n",
       "      <td>GP</td>\n",
       "      <td>F</td>\n",
       "      <td>17</td>\n",
       "      <td>U</td>\n",
       "      <td>GT3</td>\n",
       "      <td>T</td>\n",
       "      <td>1</td>\n",
       "      <td>1</td>\n",
       "      <td>at_home</td>\n",
       "      <td>other</td>\n",
       "      <td>...</td>\n",
       "      <td>5</td>\n",
       "      <td>3</td>\n",
       "      <td>3</td>\n",
       "      <td>1</td>\n",
       "      <td>1</td>\n",
       "      <td>3</td>\n",
       "      <td>4</td>\n",
       "      <td>5</td>\n",
       "      <td>5</td>\n",
       "      <td>6</td>\n",
       "    </tr>\n",
       "    <tr>\n",
       "      <th>2</th>\n",
       "      <td>GP</td>\n",
       "      <td>F</td>\n",
       "      <td>15</td>\n",
       "      <td>U</td>\n",
       "      <td>LE3</td>\n",
       "      <td>T</td>\n",
       "      <td>1</td>\n",
       "      <td>1</td>\n",
       "      <td>at_home</td>\n",
       "      <td>other</td>\n",
       "      <td>...</td>\n",
       "      <td>4</td>\n",
       "      <td>3</td>\n",
       "      <td>2</td>\n",
       "      <td>2</td>\n",
       "      <td>3</td>\n",
       "      <td>3</td>\n",
       "      <td>10</td>\n",
       "      <td>7</td>\n",
       "      <td>8</td>\n",
       "      <td>10</td>\n",
       "    </tr>\n",
       "    <tr>\n",
       "      <th>3</th>\n",
       "      <td>GP</td>\n",
       "      <td>F</td>\n",
       "      <td>15</td>\n",
       "      <td>U</td>\n",
       "      <td>GT3</td>\n",
       "      <td>T</td>\n",
       "      <td>4</td>\n",
       "      <td>2</td>\n",
       "      <td>health</td>\n",
       "      <td>services</td>\n",
       "      <td>...</td>\n",
       "      <td>3</td>\n",
       "      <td>2</td>\n",
       "      <td>2</td>\n",
       "      <td>1</td>\n",
       "      <td>1</td>\n",
       "      <td>5</td>\n",
       "      <td>2</td>\n",
       "      <td>15</td>\n",
       "      <td>14</td>\n",
       "      <td>15</td>\n",
       "    </tr>\n",
       "    <tr>\n",
       "      <th>4</th>\n",
       "      <td>GP</td>\n",
       "      <td>F</td>\n",
       "      <td>16</td>\n",
       "      <td>U</td>\n",
       "      <td>GT3</td>\n",
       "      <td>T</td>\n",
       "      <td>3</td>\n",
       "      <td>3</td>\n",
       "      <td>other</td>\n",
       "      <td>other</td>\n",
       "      <td>...</td>\n",
       "      <td>4</td>\n",
       "      <td>3</td>\n",
       "      <td>2</td>\n",
       "      <td>1</td>\n",
       "      <td>2</td>\n",
       "      <td>5</td>\n",
       "      <td>4</td>\n",
       "      <td>6</td>\n",
       "      <td>10</td>\n",
       "      <td>10</td>\n",
       "    </tr>\n",
       "  </tbody>\n",
       "</table>\n",
       "<p>5 rows × 33 columns</p>\n",
       "</div>"
      ],
      "text/plain": [
       "  school sex  age address famsize Pstatus  Medu  Fedu     Mjob      Fjob  ...  \\\n",
       "0     GP   F   18       U     GT3       A     4     4  at_home   teacher  ...   \n",
       "1     GP   F   17       U     GT3       T     1     1  at_home     other  ...   \n",
       "2     GP   F   15       U     LE3       T     1     1  at_home     other  ...   \n",
       "3     GP   F   15       U     GT3       T     4     2   health  services  ...   \n",
       "4     GP   F   16       U     GT3       T     3     3    other     other  ...   \n",
       "\n",
       "  famrel freetime  goout  Dalc  Walc health absences  G1  G2  G3  \n",
       "0      4        3      4     1     1      3        6   5   6   6  \n",
       "1      5        3      3     1     1      3        4   5   5   6  \n",
       "2      4        3      2     2     3      3       10   7   8  10  \n",
       "3      3        2      2     1     1      5        2  15  14  15  \n",
       "4      4        3      2     1     2      5        4   6  10  10  \n",
       "\n",
       "[5 rows x 33 columns]"
      ]
     },
     "execution_count": 4,
     "metadata": {},
     "output_type": "execute_result"
    }
   ],
   "source": [
    "# view the first 5 rows of the dataset;\n",
    "\n",
    "df_maths.head()"
   ]
  },
  {
   "cell_type": "code",
   "execution_count": 5,
   "id": "7689cf8b-b503-49e8-b117-55d70e1f1eb8",
   "metadata": {},
   "outputs": [
    {
     "data": {
      "text/html": [
       "<div>\n",
       "<style scoped>\n",
       "    .dataframe tbody tr th:only-of-type {\n",
       "        vertical-align: middle;\n",
       "    }\n",
       "\n",
       "    .dataframe tbody tr th {\n",
       "        vertical-align: top;\n",
       "    }\n",
       "\n",
       "    .dataframe thead th {\n",
       "        text-align: right;\n",
       "    }\n",
       "</style>\n",
       "<table border=\"1\" class=\"dataframe\">\n",
       "  <thead>\n",
       "    <tr style=\"text-align: right;\">\n",
       "      <th></th>\n",
       "      <th>school</th>\n",
       "      <th>sex</th>\n",
       "      <th>age</th>\n",
       "      <th>address</th>\n",
       "      <th>famsize</th>\n",
       "      <th>Pstatus</th>\n",
       "      <th>Medu</th>\n",
       "      <th>Fedu</th>\n",
       "      <th>Mjob</th>\n",
       "      <th>Fjob</th>\n",
       "      <th>...</th>\n",
       "      <th>famrel</th>\n",
       "      <th>freetime</th>\n",
       "      <th>goout</th>\n",
       "      <th>Dalc</th>\n",
       "      <th>Walc</th>\n",
       "      <th>health</th>\n",
       "      <th>absences</th>\n",
       "      <th>G1</th>\n",
       "      <th>G2</th>\n",
       "      <th>G3</th>\n",
       "    </tr>\n",
       "  </thead>\n",
       "  <tbody>\n",
       "    <tr>\n",
       "      <th>390</th>\n",
       "      <td>MS</td>\n",
       "      <td>M</td>\n",
       "      <td>20</td>\n",
       "      <td>U</td>\n",
       "      <td>LE3</td>\n",
       "      <td>A</td>\n",
       "      <td>2</td>\n",
       "      <td>2</td>\n",
       "      <td>services</td>\n",
       "      <td>services</td>\n",
       "      <td>...</td>\n",
       "      <td>5</td>\n",
       "      <td>5</td>\n",
       "      <td>4</td>\n",
       "      <td>4</td>\n",
       "      <td>5</td>\n",
       "      <td>4</td>\n",
       "      <td>11</td>\n",
       "      <td>9</td>\n",
       "      <td>9</td>\n",
       "      <td>9</td>\n",
       "    </tr>\n",
       "    <tr>\n",
       "      <th>391</th>\n",
       "      <td>MS</td>\n",
       "      <td>M</td>\n",
       "      <td>17</td>\n",
       "      <td>U</td>\n",
       "      <td>LE3</td>\n",
       "      <td>T</td>\n",
       "      <td>3</td>\n",
       "      <td>1</td>\n",
       "      <td>services</td>\n",
       "      <td>services</td>\n",
       "      <td>...</td>\n",
       "      <td>2</td>\n",
       "      <td>4</td>\n",
       "      <td>5</td>\n",
       "      <td>3</td>\n",
       "      <td>4</td>\n",
       "      <td>2</td>\n",
       "      <td>3</td>\n",
       "      <td>14</td>\n",
       "      <td>16</td>\n",
       "      <td>16</td>\n",
       "    </tr>\n",
       "    <tr>\n",
       "      <th>392</th>\n",
       "      <td>MS</td>\n",
       "      <td>M</td>\n",
       "      <td>21</td>\n",
       "      <td>R</td>\n",
       "      <td>GT3</td>\n",
       "      <td>T</td>\n",
       "      <td>1</td>\n",
       "      <td>1</td>\n",
       "      <td>other</td>\n",
       "      <td>other</td>\n",
       "      <td>...</td>\n",
       "      <td>5</td>\n",
       "      <td>5</td>\n",
       "      <td>3</td>\n",
       "      <td>3</td>\n",
       "      <td>3</td>\n",
       "      <td>3</td>\n",
       "      <td>3</td>\n",
       "      <td>10</td>\n",
       "      <td>8</td>\n",
       "      <td>7</td>\n",
       "    </tr>\n",
       "    <tr>\n",
       "      <th>393</th>\n",
       "      <td>MS</td>\n",
       "      <td>M</td>\n",
       "      <td>18</td>\n",
       "      <td>R</td>\n",
       "      <td>LE3</td>\n",
       "      <td>T</td>\n",
       "      <td>3</td>\n",
       "      <td>2</td>\n",
       "      <td>services</td>\n",
       "      <td>other</td>\n",
       "      <td>...</td>\n",
       "      <td>4</td>\n",
       "      <td>4</td>\n",
       "      <td>1</td>\n",
       "      <td>3</td>\n",
       "      <td>4</td>\n",
       "      <td>5</td>\n",
       "      <td>0</td>\n",
       "      <td>11</td>\n",
       "      <td>12</td>\n",
       "      <td>10</td>\n",
       "    </tr>\n",
       "    <tr>\n",
       "      <th>394</th>\n",
       "      <td>MS</td>\n",
       "      <td>M</td>\n",
       "      <td>19</td>\n",
       "      <td>U</td>\n",
       "      <td>LE3</td>\n",
       "      <td>T</td>\n",
       "      <td>1</td>\n",
       "      <td>1</td>\n",
       "      <td>other</td>\n",
       "      <td>at_home</td>\n",
       "      <td>...</td>\n",
       "      <td>3</td>\n",
       "      <td>2</td>\n",
       "      <td>3</td>\n",
       "      <td>3</td>\n",
       "      <td>3</td>\n",
       "      <td>5</td>\n",
       "      <td>5</td>\n",
       "      <td>8</td>\n",
       "      <td>9</td>\n",
       "      <td>9</td>\n",
       "    </tr>\n",
       "  </tbody>\n",
       "</table>\n",
       "<p>5 rows × 33 columns</p>\n",
       "</div>"
      ],
      "text/plain": [
       "    school sex  age address famsize Pstatus  Medu  Fedu      Mjob      Fjob  \\\n",
       "390     MS   M   20       U     LE3       A     2     2  services  services   \n",
       "391     MS   M   17       U     LE3       T     3     1  services  services   \n",
       "392     MS   M   21       R     GT3       T     1     1     other     other   \n",
       "393     MS   M   18       R     LE3       T     3     2  services     other   \n",
       "394     MS   M   19       U     LE3       T     1     1     other   at_home   \n",
       "\n",
       "     ... famrel freetime  goout  Dalc  Walc health absences  G1  G2  G3  \n",
       "390  ...      5        5      4     4     5      4       11   9   9   9  \n",
       "391  ...      2        4      5     3     4      2        3  14  16  16  \n",
       "392  ...      5        5      3     3     3      3        3  10   8   7  \n",
       "393  ...      4        4      1     3     4      5        0  11  12  10  \n",
       "394  ...      3        2      3     3     3      5        5   8   9   9  \n",
       "\n",
       "[5 rows x 33 columns]"
      ]
     },
     "execution_count": 5,
     "metadata": {},
     "output_type": "execute_result"
    }
   ],
   "source": [
    "# view the last 5 rows;\n",
    "\n",
    "df_maths.tail()"
   ]
  },
  {
   "cell_type": "code",
   "execution_count": 6,
   "id": "03676669-68fe-4f71-89e9-14e2f185efa8",
   "metadata": {},
   "outputs": [
    {
     "name": "stdout",
     "output_type": "stream",
     "text": [
      "     school    sex    age  address  famsize  Pstatus   Medu   Fedu   Mjob  \\\n",
      "0     False  False  False    False    False    False  False  False  False   \n",
      "1     False  False  False    False    False    False  False  False  False   \n",
      "2     False  False  False    False    False    False  False  False  False   \n",
      "3     False  False  False    False    False    False  False  False  False   \n",
      "4     False  False  False    False    False    False  False  False  False   \n",
      "..      ...    ...    ...      ...      ...      ...    ...    ...    ...   \n",
      "390   False  False  False    False    False    False  False  False  False   \n",
      "391   False  False  False    False    False    False  False  False  False   \n",
      "392   False  False  False    False    False    False  False  False  False   \n",
      "393   False  False  False    False    False    False  False  False  False   \n",
      "394   False  False  False    False    False    False  False  False  False   \n",
      "\n",
      "      Fjob  ...  famrel  freetime  goout   Dalc   Walc  health  absences  \\\n",
      "0    False  ...   False     False  False  False  False   False     False   \n",
      "1    False  ...   False     False  False  False  False   False     False   \n",
      "2    False  ...   False     False  False  False  False   False     False   \n",
      "3    False  ...   False     False  False  False  False   False     False   \n",
      "4    False  ...   False     False  False  False  False   False     False   \n",
      "..     ...  ...     ...       ...    ...    ...    ...     ...       ...   \n",
      "390  False  ...   False     False  False  False  False   False     False   \n",
      "391  False  ...   False     False  False  False  False   False     False   \n",
      "392  False  ...   False     False  False  False  False   False     False   \n",
      "393  False  ...   False     False  False  False  False   False     False   \n",
      "394  False  ...   False     False  False  False  False   False     False   \n",
      "\n",
      "        G1     G2     G3  \n",
      "0    False  False  False  \n",
      "1    False  False  False  \n",
      "2    False  False  False  \n",
      "3    False  False  False  \n",
      "4    False  False  False  \n",
      "..     ...    ...    ...  \n",
      "390  False  False  False  \n",
      "391  False  False  False  \n",
      "392  False  False  False  \n",
      "393  False  False  False  \n",
      "394  False  False  False  \n",
      "\n",
      "[395 rows x 33 columns]\n"
     ]
    }
   ],
   "source": [
    "# check for missing values;\n",
    "\n",
    "missing = df_maths.isnull()\n",
    "\n",
    "print(missing)"
   ]
  },
  {
   "cell_type": "markdown",
   "id": "891e1a91-64e7-480e-8507-ac1b740555f3",
   "metadata": {},
   "source": [
    "# Identifying Categorical Columns..."
   ]
  },
  {
   "cell_type": "code",
   "execution_count": 7,
   "id": "10266d47-05a9-4d16-9bdf-c52d68510015",
   "metadata": {},
   "outputs": [
    {
     "name": "stdout",
     "output_type": "stream",
     "text": [
      "    school sex address famsize Pstatus      Mjob      Fjob  reason guardian  \\\n",
      "0       GP   F       U     GT3       A   at_home   teacher  course   mother   \n",
      "1       GP   F       U     GT3       T   at_home     other  course   father   \n",
      "2       GP   F       U     LE3       T   at_home     other   other   mother   \n",
      "3       GP   F       U     GT3       T    health  services    home   mother   \n",
      "4       GP   F       U     GT3       T     other     other    home   father   \n",
      "..     ...  ..     ...     ...     ...       ...       ...     ...      ...   \n",
      "390     MS   M       U     LE3       A  services  services  course    other   \n",
      "391     MS   M       U     LE3       T  services  services  course   mother   \n",
      "392     MS   M       R     GT3       T     other     other  course    other   \n",
      "393     MS   M       R     LE3       T  services     other  course   mother   \n",
      "394     MS   M       U     LE3       T     other   at_home  course   father   \n",
      "\n",
      "    schoolsup famsup paid activities nursery higher internet romantic  \n",
      "0         yes     no   no         no     yes    yes       no       no  \n",
      "1          no    yes   no         no      no    yes      yes       no  \n",
      "2         yes     no  yes         no     yes    yes      yes       no  \n",
      "3          no    yes  yes        yes     yes    yes      yes      yes  \n",
      "4          no    yes  yes         no     yes    yes       no       no  \n",
      "..        ...    ...  ...        ...     ...    ...      ...      ...  \n",
      "390        no    yes  yes         no     yes    yes       no       no  \n",
      "391        no     no   no         no      no    yes      yes       no  \n",
      "392        no     no   no         no      no    yes       no       no  \n",
      "393        no     no   no         no      no    yes      yes       no  \n",
      "394        no     no   no         no     yes    yes      yes       no  \n",
      "\n",
      "[395 rows x 17 columns]\n"
     ]
    }
   ],
   "source": [
    "# display categorical columns using pandas {.select_dtypes()} method;\n",
    "\n",
    "df_maths_cat = df_maths.select_dtypes(include = 'object')\n",
    "\n",
    "print(df_maths_cat)"
   ]
  },
  {
   "cell_type": "markdown",
   "id": "6ad4929c-9887-4327-936b-69b95d8534b0",
   "metadata": {},
   "source": [
    "# Identifying Categorical DataPoints..."
   ]
  },
  {
   "cell_type": "code",
   "execution_count": 8,
   "id": "319f63cc-c1e6-456e-8553-854f974a767b",
   "metadata": {},
   "outputs": [
    {
     "name": "stdout",
     "output_type": "stream",
     "text": [
      " the unique points contained within each categorical column are as follows... \n",
      "\n",
      "school\n",
      "['GP' 'MS']\n",
      "\n",
      "\n",
      "sex\n",
      "['F' 'M']\n",
      "\n",
      "\n",
      "address\n",
      "['U' 'R']\n",
      "\n",
      "\n",
      "famsize\n",
      "['GT3' 'LE3']\n",
      "\n",
      "\n",
      "Pstatus\n",
      "['A' 'T']\n",
      "\n",
      "\n",
      "Mjob\n",
      "['at_home' 'health' 'other' 'services' 'teacher']\n",
      "\n",
      "\n",
      "Fjob\n",
      "['teacher' 'other' 'services' 'health' 'at_home']\n",
      "\n",
      "\n",
      "reason\n",
      "['course' 'other' 'home' 'reputation']\n",
      "\n",
      "\n",
      "guardian\n",
      "['mother' 'father' 'other']\n",
      "\n",
      "\n",
      "schoolsup\n",
      "['yes' 'no']\n",
      "\n",
      "\n",
      "famsup\n",
      "['no' 'yes']\n",
      "\n",
      "\n",
      "paid\n",
      "['no' 'yes']\n",
      "\n",
      "\n",
      "activities\n",
      "['no' 'yes']\n",
      "\n",
      "\n",
      "nursery\n",
      "['yes' 'no']\n",
      "\n",
      "\n",
      "higher\n",
      "['yes' 'no']\n",
      "\n",
      "\n",
      "internet\n",
      "['no' 'yes']\n",
      "\n",
      "\n",
      "romantic\n",
      "['no' 'yes']\n",
      "\n"
     ]
    }
   ],
   "source": [
    "# these categorical columns are then passed to the previously\n",
    "# defined function {CATEGORICAL_DATAPOINTS()} to display the \n",
    "# unique datapoints within each column;\n",
    "\n",
    "maths_catdpoints = CATEGORICAL_DATAPOINTS(df = df_maths)   \n",
    "\n",
    "maths_catdpoints"
   ]
  },
  {
   "cell_type": "markdown",
   "id": "87629f7b-910c-4adc-b736-28c5c09fdc71",
   "metadata": {},
   "source": [
    "# Encoding Categorical Data..."
   ]
  },
  {
   "cell_type": "code",
   "execution_count": 9,
   "id": "a539e1f7-a7b1-4baf-b9bf-9a2445b6c2b5",
   "metadata": {},
   "outputs": [],
   "source": [
    "# the {LabelEncoder()} is instantiated to the variable {encoder};\n",
    "\n",
    "encoder = LabelEncoder()\n",
    "\n",
    "# and ordinal categorical columns are encoded;\n",
    "\n",
    "df_maths['Mjob'] = encoder.fit_transform(df_maths['Mjob'])\n",
    "df_maths['Fjob'] = encoder.fit_transform(df_maths['Fjob'])\n",
    "df_maths['reason'] = encoder.fit_transform(df_maths['reason'])\n",
    "df_maths['guardian'] = encoder.fit_transform(df_maths['guardian'])"
   ]
  },
  {
   "cell_type": "code",
   "execution_count": 10,
   "id": "97ad6754-7818-43c6-bf70-f2f707fc8b3e",
   "metadata": {},
   "outputs": [
    {
     "name": "stdout",
     "output_type": "stream",
     "text": [
      "    school sex  age address famsize Pstatus  Medu  Fedu  Mjob  Fjob  ...  \\\n",
      "0       GP   F   18       U     GT3       A     4     4     0     4  ...   \n",
      "1       GP   F   17       U     GT3       T     1     1     0     2  ...   \n",
      "2       GP   F   15       U     LE3       T     1     1     0     2  ...   \n",
      "3       GP   F   15       U     GT3       T     4     2     1     3  ...   \n",
      "4       GP   F   16       U     GT3       T     3     3     2     2  ...   \n",
      "..     ...  ..  ...     ...     ...     ...   ...   ...   ...   ...  ...   \n",
      "390     MS   M   20       U     LE3       A     2     2     3     3  ...   \n",
      "391     MS   M   17       U     LE3       T     3     1     3     3  ...   \n",
      "392     MS   M   21       R     GT3       T     1     1     2     2  ...   \n",
      "393     MS   M   18       R     LE3       T     3     2     3     2  ...   \n",
      "394     MS   M   19       U     LE3       T     1     1     2     0  ...   \n",
      "\n",
      "     famrel  freetime  goout  Dalc  Walc health absences  G1  G2  G3  \n",
      "0         4         3      4     1     1      3        6   5   6   6  \n",
      "1         5         3      3     1     1      3        4   5   5   6  \n",
      "2         4         3      2     2     3      3       10   7   8  10  \n",
      "3         3         2      2     1     1      5        2  15  14  15  \n",
      "4         4         3      2     1     2      5        4   6  10  10  \n",
      "..      ...       ...    ...   ...   ...    ...      ...  ..  ..  ..  \n",
      "390       5         5      4     4     5      4       11   9   9   9  \n",
      "391       2         4      5     3     4      2        3  14  16  16  \n",
      "392       5         5      3     3     3      3        3  10   8   7  \n",
      "393       4         4      1     3     4      5        0  11  12  10  \n",
      "394       3         2      3     3     3      5        5   8   9   9  \n",
      "\n",
      "[395 rows x 33 columns]\n"
     ]
    }
   ],
   "source": [
    "print(df_maths)"
   ]
  },
  {
   "cell_type": "code",
   "execution_count": 11,
   "id": "1a5e1747-cb16-401e-a022-0dbd9c2c1d45",
   "metadata": {},
   "outputs": [],
   "source": [
    "# nominal columns are then encoded using pandas {.get_dummies()} method;\n",
    "\n",
    "df_maths = pd.get_dummies(df_maths, \n",
    "                          columns = ['school', \n",
    "                          'sex',\n",
    "                          'address',\n",
    "                          'famsize',\n",
    "                          'Pstatus',\n",
    "                          'schoolsup',\n",
    "                          'famsup',\n",
    "                          'paid',\n",
    "                          'activities',\n",
    "                          'nursery',\n",
    "                          'higher',\n",
    "                          'internet',\n",
    "                          'romantic'],\n",
    "                          drop_first = True)\n",
    "\n",
    "# the {drop_first} parameter removes the inverse of each encoded column, as\n",
    "# it is already implied and can cause issues with noise within the \n",
    "# training of ML models."
   ]
  },
  {
   "cell_type": "code",
   "execution_count": 12,
   "id": "55c2fb96-cbcc-4592-8095-faa0192a3b2c",
   "metadata": {},
   "outputs": [
    {
     "name": "stdout",
     "output_type": "stream",
     "text": [
      "     age  Medu  Fedu  Mjob  Fjob  reason  guardian  traveltime  studytime  \\\n",
      "0     18     4     4     0     4       0         1           2          2   \n",
      "1     17     1     1     0     2       0         0           1          2   \n",
      "2     15     1     1     0     2       2         1           1          2   \n",
      "3     15     4     2     1     3       1         1           1          3   \n",
      "4     16     3     3     2     2       1         0           1          2   \n",
      "..   ...   ...   ...   ...   ...     ...       ...         ...        ...   \n",
      "390   20     2     2     3     3       0         2           1          2   \n",
      "391   17     3     1     3     3       0         1           2          1   \n",
      "392   21     1     1     2     2       0         2           1          1   \n",
      "393   18     3     2     3     2       0         1           3          1   \n",
      "394   19     1     1     2     0       0         0           1          1   \n",
      "\n",
      "     failures  ...  famsize_LE3  Pstatus_T  schoolsup_yes  famsup_yes  \\\n",
      "0           0  ...        False      False           True       False   \n",
      "1           0  ...        False       True          False        True   \n",
      "2           3  ...         True       True           True       False   \n",
      "3           0  ...        False       True          False        True   \n",
      "4           0  ...        False       True          False        True   \n",
      "..        ...  ...          ...        ...            ...         ...   \n",
      "390         2  ...         True      False          False        True   \n",
      "391         0  ...         True       True          False       False   \n",
      "392         3  ...        False       True          False       False   \n",
      "393         0  ...         True       True          False       False   \n",
      "394         0  ...         True       True          False       False   \n",
      "\n",
      "     paid_yes  activities_yes  nursery_yes  higher_yes  internet_yes  \\\n",
      "0       False           False         True        True         False   \n",
      "1       False           False        False        True          True   \n",
      "2        True           False         True        True          True   \n",
      "3        True            True         True        True          True   \n",
      "4        True           False         True        True         False   \n",
      "..        ...             ...          ...         ...           ...   \n",
      "390      True           False         True        True         False   \n",
      "391     False           False        False        True          True   \n",
      "392     False           False        False        True         False   \n",
      "393     False           False        False        True          True   \n",
      "394     False           False         True        True          True   \n",
      "\n",
      "     romantic_yes  \n",
      "0           False  \n",
      "1           False  \n",
      "2           False  \n",
      "3            True  \n",
      "4           False  \n",
      "..            ...  \n",
      "390         False  \n",
      "391         False  \n",
      "392         False  \n",
      "393         False  \n",
      "394         False  \n",
      "\n",
      "[395 rows x 33 columns]\n"
     ]
    }
   ],
   "source": [
    "print(df_maths)"
   ]
  },
  {
   "cell_type": "markdown",
   "id": "fad522b7-8c48-4d76-832e-c04814459744",
   "metadata": {},
   "source": [
    "# Renaming Columns for Clarity..."
   ]
  },
  {
   "cell_type": "code",
   "execution_count": 13,
   "id": "6e33b2aa-ec4f-437a-81dd-993d2a9a2c9d",
   "metadata": {},
   "outputs": [],
   "source": [
    "# each column is then renamed to promote readability and interpretability\n",
    "# of results;\n",
    "\n",
    "df_maths = df_maths.rename(columns = {'Pstatus_T': 'Parental Cohabitation',\n",
    "                                      'famsize_LE3': 'Small Family',\n",
    "                                      'schoolsup_yes': 'School Support',\n",
    "                                      'famsup_yes': 'Familial Support',\n",
    "                                      'reason': 'Reason School',\n",
    "                                      'guardian': 'Guardian',\n",
    "                                      'paid_yes': 'Extra Tutoring',\n",
    "                                      'activities_yes': 'Extra Curricular',\n",
    "                                      'nursery_yes': 'Nursery',\n",
    "                                      'failures': 'Past Failures',\n",
    "                                      'studytime': 'Study Time',\n",
    "                                      'traveltime': 'Travel Time',\n",
    "                                      'higher_yes': 'Higher Ed',\n",
    "                                      'internet_yes': 'Home WiFi',\n",
    "                                      'romantic_yes': 'In Relationship',\n",
    "                                      'famrel': 'Family Closeness',\n",
    "                                      'freetime': 'Free Time',\n",
    "                                      'goout': 'Social Life',\n",
    "                                      'Dalc': 'Workday Alc',\n",
    "                                      'Walc': 'Weekend Alc',\n",
    "                                      'health': 'Health',\n",
    "                                      'absences': 'Absent',\n",
    "                                      'G1': 'First Grade',\n",
    "                                      'G2': 'Second Grade',\n",
    "                                      'G3': 'Final Grade',\n",
    "                                      'school_MS': 'School MS',\n",
    "                                      'sex_M': 'Male',\n",
    "                                      'age': 'Age',\n",
    "                                      'address_U': 'Urban Address',\n",
    "                                      'Fedu': \"Father's Ed\",\n",
    "                                      'Medu': \"Mother's Ed\",\n",
    "                                      'Mjob': \"Mother's Job\",\n",
    "                                      'Fjob': \"Father's Job\"})"
   ]
  },
  {
   "cell_type": "code",
   "execution_count": 14,
   "id": "325ec8c3-b76c-4554-9726-2122cb189968",
   "metadata": {},
   "outputs": [
    {
     "data": {
      "text/html": [
       "<div>\n",
       "<style scoped>\n",
       "    .dataframe tbody tr th:only-of-type {\n",
       "        vertical-align: middle;\n",
       "    }\n",
       "\n",
       "    .dataframe tbody tr th {\n",
       "        vertical-align: top;\n",
       "    }\n",
       "\n",
       "    .dataframe thead th {\n",
       "        text-align: right;\n",
       "    }\n",
       "</style>\n",
       "<table border=\"1\" class=\"dataframe\">\n",
       "  <thead>\n",
       "    <tr style=\"text-align: right;\">\n",
       "      <th></th>\n",
       "      <th>Age</th>\n",
       "      <th>Mother's Ed</th>\n",
       "      <th>Father's Ed</th>\n",
       "      <th>Mother's Job</th>\n",
       "      <th>Father's Job</th>\n",
       "      <th>Reason School</th>\n",
       "      <th>Guardian</th>\n",
       "      <th>Travel Time</th>\n",
       "      <th>Study Time</th>\n",
       "      <th>Past Failures</th>\n",
       "      <th>...</th>\n",
       "      <th>Small Family</th>\n",
       "      <th>Parental Cohabitation</th>\n",
       "      <th>School Support</th>\n",
       "      <th>Familial Support</th>\n",
       "      <th>Extra Tutoring</th>\n",
       "      <th>Extra Curricular</th>\n",
       "      <th>Nursery</th>\n",
       "      <th>Higher Ed</th>\n",
       "      <th>Home WiFi</th>\n",
       "      <th>In Relationship</th>\n",
       "    </tr>\n",
       "  </thead>\n",
       "  <tbody>\n",
       "    <tr>\n",
       "      <th>0</th>\n",
       "      <td>18</td>\n",
       "      <td>4</td>\n",
       "      <td>4</td>\n",
       "      <td>0</td>\n",
       "      <td>4</td>\n",
       "      <td>0</td>\n",
       "      <td>1</td>\n",
       "      <td>2</td>\n",
       "      <td>2</td>\n",
       "      <td>0</td>\n",
       "      <td>...</td>\n",
       "      <td>False</td>\n",
       "      <td>False</td>\n",
       "      <td>True</td>\n",
       "      <td>False</td>\n",
       "      <td>False</td>\n",
       "      <td>False</td>\n",
       "      <td>True</td>\n",
       "      <td>True</td>\n",
       "      <td>False</td>\n",
       "      <td>False</td>\n",
       "    </tr>\n",
       "    <tr>\n",
       "      <th>1</th>\n",
       "      <td>17</td>\n",
       "      <td>1</td>\n",
       "      <td>1</td>\n",
       "      <td>0</td>\n",
       "      <td>2</td>\n",
       "      <td>0</td>\n",
       "      <td>0</td>\n",
       "      <td>1</td>\n",
       "      <td>2</td>\n",
       "      <td>0</td>\n",
       "      <td>...</td>\n",
       "      <td>False</td>\n",
       "      <td>True</td>\n",
       "      <td>False</td>\n",
       "      <td>True</td>\n",
       "      <td>False</td>\n",
       "      <td>False</td>\n",
       "      <td>False</td>\n",
       "      <td>True</td>\n",
       "      <td>True</td>\n",
       "      <td>False</td>\n",
       "    </tr>\n",
       "    <tr>\n",
       "      <th>2</th>\n",
       "      <td>15</td>\n",
       "      <td>1</td>\n",
       "      <td>1</td>\n",
       "      <td>0</td>\n",
       "      <td>2</td>\n",
       "      <td>2</td>\n",
       "      <td>1</td>\n",
       "      <td>1</td>\n",
       "      <td>2</td>\n",
       "      <td>3</td>\n",
       "      <td>...</td>\n",
       "      <td>True</td>\n",
       "      <td>True</td>\n",
       "      <td>True</td>\n",
       "      <td>False</td>\n",
       "      <td>True</td>\n",
       "      <td>False</td>\n",
       "      <td>True</td>\n",
       "      <td>True</td>\n",
       "      <td>True</td>\n",
       "      <td>False</td>\n",
       "    </tr>\n",
       "    <tr>\n",
       "      <th>3</th>\n",
       "      <td>15</td>\n",
       "      <td>4</td>\n",
       "      <td>2</td>\n",
       "      <td>1</td>\n",
       "      <td>3</td>\n",
       "      <td>1</td>\n",
       "      <td>1</td>\n",
       "      <td>1</td>\n",
       "      <td>3</td>\n",
       "      <td>0</td>\n",
       "      <td>...</td>\n",
       "      <td>False</td>\n",
       "      <td>True</td>\n",
       "      <td>False</td>\n",
       "      <td>True</td>\n",
       "      <td>True</td>\n",
       "      <td>True</td>\n",
       "      <td>True</td>\n",
       "      <td>True</td>\n",
       "      <td>True</td>\n",
       "      <td>True</td>\n",
       "    </tr>\n",
       "    <tr>\n",
       "      <th>4</th>\n",
       "      <td>16</td>\n",
       "      <td>3</td>\n",
       "      <td>3</td>\n",
       "      <td>2</td>\n",
       "      <td>2</td>\n",
       "      <td>1</td>\n",
       "      <td>0</td>\n",
       "      <td>1</td>\n",
       "      <td>2</td>\n",
       "      <td>0</td>\n",
       "      <td>...</td>\n",
       "      <td>False</td>\n",
       "      <td>True</td>\n",
       "      <td>False</td>\n",
       "      <td>True</td>\n",
       "      <td>True</td>\n",
       "      <td>False</td>\n",
       "      <td>True</td>\n",
       "      <td>True</td>\n",
       "      <td>False</td>\n",
       "      <td>False</td>\n",
       "    </tr>\n",
       "    <tr>\n",
       "      <th>...</th>\n",
       "      <td>...</td>\n",
       "      <td>...</td>\n",
       "      <td>...</td>\n",
       "      <td>...</td>\n",
       "      <td>...</td>\n",
       "      <td>...</td>\n",
       "      <td>...</td>\n",
       "      <td>...</td>\n",
       "      <td>...</td>\n",
       "      <td>...</td>\n",
       "      <td>...</td>\n",
       "      <td>...</td>\n",
       "      <td>...</td>\n",
       "      <td>...</td>\n",
       "      <td>...</td>\n",
       "      <td>...</td>\n",
       "      <td>...</td>\n",
       "      <td>...</td>\n",
       "      <td>...</td>\n",
       "      <td>...</td>\n",
       "      <td>...</td>\n",
       "    </tr>\n",
       "    <tr>\n",
       "      <th>390</th>\n",
       "      <td>20</td>\n",
       "      <td>2</td>\n",
       "      <td>2</td>\n",
       "      <td>3</td>\n",
       "      <td>3</td>\n",
       "      <td>0</td>\n",
       "      <td>2</td>\n",
       "      <td>1</td>\n",
       "      <td>2</td>\n",
       "      <td>2</td>\n",
       "      <td>...</td>\n",
       "      <td>True</td>\n",
       "      <td>False</td>\n",
       "      <td>False</td>\n",
       "      <td>True</td>\n",
       "      <td>True</td>\n",
       "      <td>False</td>\n",
       "      <td>True</td>\n",
       "      <td>True</td>\n",
       "      <td>False</td>\n",
       "      <td>False</td>\n",
       "    </tr>\n",
       "    <tr>\n",
       "      <th>391</th>\n",
       "      <td>17</td>\n",
       "      <td>3</td>\n",
       "      <td>1</td>\n",
       "      <td>3</td>\n",
       "      <td>3</td>\n",
       "      <td>0</td>\n",
       "      <td>1</td>\n",
       "      <td>2</td>\n",
       "      <td>1</td>\n",
       "      <td>0</td>\n",
       "      <td>...</td>\n",
       "      <td>True</td>\n",
       "      <td>True</td>\n",
       "      <td>False</td>\n",
       "      <td>False</td>\n",
       "      <td>False</td>\n",
       "      <td>False</td>\n",
       "      <td>False</td>\n",
       "      <td>True</td>\n",
       "      <td>True</td>\n",
       "      <td>False</td>\n",
       "    </tr>\n",
       "    <tr>\n",
       "      <th>392</th>\n",
       "      <td>21</td>\n",
       "      <td>1</td>\n",
       "      <td>1</td>\n",
       "      <td>2</td>\n",
       "      <td>2</td>\n",
       "      <td>0</td>\n",
       "      <td>2</td>\n",
       "      <td>1</td>\n",
       "      <td>1</td>\n",
       "      <td>3</td>\n",
       "      <td>...</td>\n",
       "      <td>False</td>\n",
       "      <td>True</td>\n",
       "      <td>False</td>\n",
       "      <td>False</td>\n",
       "      <td>False</td>\n",
       "      <td>False</td>\n",
       "      <td>False</td>\n",
       "      <td>True</td>\n",
       "      <td>False</td>\n",
       "      <td>False</td>\n",
       "    </tr>\n",
       "    <tr>\n",
       "      <th>393</th>\n",
       "      <td>18</td>\n",
       "      <td>3</td>\n",
       "      <td>2</td>\n",
       "      <td>3</td>\n",
       "      <td>2</td>\n",
       "      <td>0</td>\n",
       "      <td>1</td>\n",
       "      <td>3</td>\n",
       "      <td>1</td>\n",
       "      <td>0</td>\n",
       "      <td>...</td>\n",
       "      <td>True</td>\n",
       "      <td>True</td>\n",
       "      <td>False</td>\n",
       "      <td>False</td>\n",
       "      <td>False</td>\n",
       "      <td>False</td>\n",
       "      <td>False</td>\n",
       "      <td>True</td>\n",
       "      <td>True</td>\n",
       "      <td>False</td>\n",
       "    </tr>\n",
       "    <tr>\n",
       "      <th>394</th>\n",
       "      <td>19</td>\n",
       "      <td>1</td>\n",
       "      <td>1</td>\n",
       "      <td>2</td>\n",
       "      <td>0</td>\n",
       "      <td>0</td>\n",
       "      <td>0</td>\n",
       "      <td>1</td>\n",
       "      <td>1</td>\n",
       "      <td>0</td>\n",
       "      <td>...</td>\n",
       "      <td>True</td>\n",
       "      <td>True</td>\n",
       "      <td>False</td>\n",
       "      <td>False</td>\n",
       "      <td>False</td>\n",
       "      <td>False</td>\n",
       "      <td>True</td>\n",
       "      <td>True</td>\n",
       "      <td>True</td>\n",
       "      <td>False</td>\n",
       "    </tr>\n",
       "  </tbody>\n",
       "</table>\n",
       "<p>395 rows × 33 columns</p>\n",
       "</div>"
      ],
      "text/plain": [
       "     Age  Mother's Ed  Father's Ed  Mother's Job  Father's Job  Reason School  \\\n",
       "0     18            4            4             0             4              0   \n",
       "1     17            1            1             0             2              0   \n",
       "2     15            1            1             0             2              2   \n",
       "3     15            4            2             1             3              1   \n",
       "4     16            3            3             2             2              1   \n",
       "..   ...          ...          ...           ...           ...            ...   \n",
       "390   20            2            2             3             3              0   \n",
       "391   17            3            1             3             3              0   \n",
       "392   21            1            1             2             2              0   \n",
       "393   18            3            2             3             2              0   \n",
       "394   19            1            1             2             0              0   \n",
       "\n",
       "     Guardian  Travel Time  Study Time  Past Failures  ...  Small Family  \\\n",
       "0           1            2           2              0  ...         False   \n",
       "1           0            1           2              0  ...         False   \n",
       "2           1            1           2              3  ...          True   \n",
       "3           1            1           3              0  ...         False   \n",
       "4           0            1           2              0  ...         False   \n",
       "..        ...          ...         ...            ...  ...           ...   \n",
       "390         2            1           2              2  ...          True   \n",
       "391         1            2           1              0  ...          True   \n",
       "392         2            1           1              3  ...         False   \n",
       "393         1            3           1              0  ...          True   \n",
       "394         0            1           1              0  ...          True   \n",
       "\n",
       "     Parental Cohabitation  School Support  Familial Support  Extra Tutoring  \\\n",
       "0                    False            True             False           False   \n",
       "1                     True           False              True           False   \n",
       "2                     True            True             False            True   \n",
       "3                     True           False              True            True   \n",
       "4                     True           False              True            True   \n",
       "..                     ...             ...               ...             ...   \n",
       "390                  False           False              True            True   \n",
       "391                   True           False             False           False   \n",
       "392                   True           False             False           False   \n",
       "393                   True           False             False           False   \n",
       "394                   True           False             False           False   \n",
       "\n",
       "     Extra Curricular  Nursery  Higher Ed  Home WiFi  In Relationship  \n",
       "0               False     True       True      False            False  \n",
       "1               False    False       True       True            False  \n",
       "2               False     True       True       True            False  \n",
       "3                True     True       True       True             True  \n",
       "4               False     True       True      False            False  \n",
       "..                ...      ...        ...        ...              ...  \n",
       "390             False     True       True      False            False  \n",
       "391             False    False       True       True            False  \n",
       "392             False    False       True      False            False  \n",
       "393             False    False       True       True            False  \n",
       "394             False     True       True       True            False  \n",
       "\n",
       "[395 rows x 33 columns]"
      ]
     },
     "execution_count": 14,
     "metadata": {},
     "output_type": "execute_result"
    }
   ],
   "source": [
    "# the dataset is now fully cleaned and encoded and ready for machine learning models;\n",
    "\n",
    "df_maths"
   ]
  },
  {
   "cell_type": "markdown",
   "id": "ea7c5459-0dda-4bfa-bbd8-348b21b1eee8",
   "metadata": {},
   "source": [
    "# Exploratory Data Analysis"
   ]
  },
  {
   "cell_type": "code",
   "execution_count": 15,
   "id": "1bc49524-878c-4718-8842-95e4834be75c",
   "metadata": {},
   "outputs": [
    {
     "data": {
      "text/plain": [
       "<bound method DataFrame.info of      Age  Mother's Ed  Father's Ed  Mother's Job  Father's Job  Reason School  \\\n",
       "0     18            4            4             0             4              0   \n",
       "1     17            1            1             0             2              0   \n",
       "2     15            1            1             0             2              2   \n",
       "3     15            4            2             1             3              1   \n",
       "4     16            3            3             2             2              1   \n",
       "..   ...          ...          ...           ...           ...            ...   \n",
       "390   20            2            2             3             3              0   \n",
       "391   17            3            1             3             3              0   \n",
       "392   21            1            1             2             2              0   \n",
       "393   18            3            2             3             2              0   \n",
       "394   19            1            1             2             0              0   \n",
       "\n",
       "     Guardian  Travel Time  Study Time  Past Failures  ...  Small Family  \\\n",
       "0           1            2           2              0  ...         False   \n",
       "1           0            1           2              0  ...         False   \n",
       "2           1            1           2              3  ...          True   \n",
       "3           1            1           3              0  ...         False   \n",
       "4           0            1           2              0  ...         False   \n",
       "..        ...          ...         ...            ...  ...           ...   \n",
       "390         2            1           2              2  ...          True   \n",
       "391         1            2           1              0  ...          True   \n",
       "392         2            1           1              3  ...         False   \n",
       "393         1            3           1              0  ...          True   \n",
       "394         0            1           1              0  ...          True   \n",
       "\n",
       "     Parental Cohabitation  School Support  Familial Support  Extra Tutoring  \\\n",
       "0                    False            True             False           False   \n",
       "1                     True           False              True           False   \n",
       "2                     True            True             False            True   \n",
       "3                     True           False              True            True   \n",
       "4                     True           False              True            True   \n",
       "..                     ...             ...               ...             ...   \n",
       "390                  False           False              True            True   \n",
       "391                   True           False             False           False   \n",
       "392                   True           False             False           False   \n",
       "393                   True           False             False           False   \n",
       "394                   True           False             False           False   \n",
       "\n",
       "     Extra Curricular  Nursery  Higher Ed  Home WiFi  In Relationship  \n",
       "0               False     True       True      False            False  \n",
       "1               False    False       True       True            False  \n",
       "2               False     True       True       True            False  \n",
       "3                True     True       True       True             True  \n",
       "4               False     True       True      False            False  \n",
       "..                ...      ...        ...        ...              ...  \n",
       "390             False     True       True      False            False  \n",
       "391             False    False       True       True            False  \n",
       "392             False    False       True      False            False  \n",
       "393             False    False       True       True            False  \n",
       "394             False     True       True       True            False  \n",
       "\n",
       "[395 rows x 33 columns]>"
      ]
     },
     "execution_count": 15,
     "metadata": {},
     "output_type": "execute_result"
    }
   ],
   "source": [
    "# I will perform a brief EDA to get some shallow insight on the dataset\n",
    "# which will inform the questions I need to ask and the model selection process;\n",
    "\n",
    "df_maths.info"
   ]
  },
  {
   "cell_type": "code",
   "execution_count": 16,
   "id": "fdc74dd4-a367-4577-a99c-f66025ae6654",
   "metadata": {},
   "outputs": [
    {
     "data": {
      "text/plain": [
       "(395, 33)"
      ]
     },
     "execution_count": 16,
     "metadata": {},
     "output_type": "execute_result"
    }
   ],
   "source": [
    "# quickly check the size of the dataset;\n",
    "\n",
    "df_maths.shape"
   ]
  },
  {
   "cell_type": "code",
   "execution_count": 17,
   "id": "1703db90-6e70-4b5e-9621-00324dc2f353",
   "metadata": {},
   "outputs": [
    {
     "data": {
      "text/html": [
       "<div>\n",
       "<style scoped>\n",
       "    .dataframe tbody tr th:only-of-type {\n",
       "        vertical-align: middle;\n",
       "    }\n",
       "\n",
       "    .dataframe tbody tr th {\n",
       "        vertical-align: top;\n",
       "    }\n",
       "\n",
       "    .dataframe thead th {\n",
       "        text-align: right;\n",
       "    }\n",
       "</style>\n",
       "<table border=\"1\" class=\"dataframe\">\n",
       "  <thead>\n",
       "    <tr style=\"text-align: right;\">\n",
       "      <th></th>\n",
       "      <th>Age</th>\n",
       "      <th>Mother's Ed</th>\n",
       "      <th>Father's Ed</th>\n",
       "      <th>Mother's Job</th>\n",
       "      <th>Father's Job</th>\n",
       "      <th>Reason School</th>\n",
       "      <th>Guardian</th>\n",
       "      <th>Travel Time</th>\n",
       "      <th>Study Time</th>\n",
       "      <th>Past Failures</th>\n",
       "      <th>Family Closeness</th>\n",
       "      <th>Free Time</th>\n",
       "      <th>Social Life</th>\n",
       "      <th>Workday Alc</th>\n",
       "      <th>Weekend Alc</th>\n",
       "      <th>Health</th>\n",
       "      <th>Absent</th>\n",
       "      <th>First Grade</th>\n",
       "      <th>Second Grade</th>\n",
       "      <th>Final Grade</th>\n",
       "    </tr>\n",
       "  </thead>\n",
       "  <tbody>\n",
       "    <tr>\n",
       "      <th>count</th>\n",
       "      <td>395.000000</td>\n",
       "      <td>395.000000</td>\n",
       "      <td>395.000000</td>\n",
       "      <td>395.000000</td>\n",
       "      <td>395.000000</td>\n",
       "      <td>395.000000</td>\n",
       "      <td>395.000000</td>\n",
       "      <td>395.000000</td>\n",
       "      <td>395.000000</td>\n",
       "      <td>395.000000</td>\n",
       "      <td>395.000000</td>\n",
       "      <td>395.000000</td>\n",
       "      <td>395.000000</td>\n",
       "      <td>395.000000</td>\n",
       "      <td>395.000000</td>\n",
       "      <td>395.000000</td>\n",
       "      <td>395.000000</td>\n",
       "      <td>395.000000</td>\n",
       "      <td>395.000000</td>\n",
       "      <td>395.000000</td>\n",
       "    </tr>\n",
       "    <tr>\n",
       "      <th>mean</th>\n",
       "      <td>16.696203</td>\n",
       "      <td>2.749367</td>\n",
       "      <td>2.521519</td>\n",
       "      <td>2.169620</td>\n",
       "      <td>2.281013</td>\n",
       "      <td>1.255696</td>\n",
       "      <td>0.853165</td>\n",
       "      <td>1.448101</td>\n",
       "      <td>2.035443</td>\n",
       "      <td>0.334177</td>\n",
       "      <td>3.944304</td>\n",
       "      <td>3.235443</td>\n",
       "      <td>3.108861</td>\n",
       "      <td>1.481013</td>\n",
       "      <td>2.291139</td>\n",
       "      <td>3.554430</td>\n",
       "      <td>5.708861</td>\n",
       "      <td>10.908861</td>\n",
       "      <td>10.713924</td>\n",
       "      <td>10.415190</td>\n",
       "    </tr>\n",
       "    <tr>\n",
       "      <th>std</th>\n",
       "      <td>1.276043</td>\n",
       "      <td>1.094735</td>\n",
       "      <td>1.088201</td>\n",
       "      <td>1.227473</td>\n",
       "      <td>0.863542</td>\n",
       "      <td>1.208236</td>\n",
       "      <td>0.536684</td>\n",
       "      <td>0.697505</td>\n",
       "      <td>0.839240</td>\n",
       "      <td>0.743651</td>\n",
       "      <td>0.896659</td>\n",
       "      <td>0.998862</td>\n",
       "      <td>1.113278</td>\n",
       "      <td>0.890741</td>\n",
       "      <td>1.287897</td>\n",
       "      <td>1.390303</td>\n",
       "      <td>8.003096</td>\n",
       "      <td>3.319195</td>\n",
       "      <td>3.761505</td>\n",
       "      <td>4.581443</td>\n",
       "    </tr>\n",
       "    <tr>\n",
       "      <th>min</th>\n",
       "      <td>15.000000</td>\n",
       "      <td>0.000000</td>\n",
       "      <td>0.000000</td>\n",
       "      <td>0.000000</td>\n",
       "      <td>0.000000</td>\n",
       "      <td>0.000000</td>\n",
       "      <td>0.000000</td>\n",
       "      <td>1.000000</td>\n",
       "      <td>1.000000</td>\n",
       "      <td>0.000000</td>\n",
       "      <td>1.000000</td>\n",
       "      <td>1.000000</td>\n",
       "      <td>1.000000</td>\n",
       "      <td>1.000000</td>\n",
       "      <td>1.000000</td>\n",
       "      <td>1.000000</td>\n",
       "      <td>0.000000</td>\n",
       "      <td>3.000000</td>\n",
       "      <td>0.000000</td>\n",
       "      <td>0.000000</td>\n",
       "    </tr>\n",
       "    <tr>\n",
       "      <th>25%</th>\n",
       "      <td>16.000000</td>\n",
       "      <td>2.000000</td>\n",
       "      <td>2.000000</td>\n",
       "      <td>2.000000</td>\n",
       "      <td>2.000000</td>\n",
       "      <td>0.000000</td>\n",
       "      <td>1.000000</td>\n",
       "      <td>1.000000</td>\n",
       "      <td>1.000000</td>\n",
       "      <td>0.000000</td>\n",
       "      <td>4.000000</td>\n",
       "      <td>3.000000</td>\n",
       "      <td>2.000000</td>\n",
       "      <td>1.000000</td>\n",
       "      <td>1.000000</td>\n",
       "      <td>3.000000</td>\n",
       "      <td>0.000000</td>\n",
       "      <td>8.000000</td>\n",
       "      <td>9.000000</td>\n",
       "      <td>8.000000</td>\n",
       "    </tr>\n",
       "    <tr>\n",
       "      <th>50%</th>\n",
       "      <td>17.000000</td>\n",
       "      <td>3.000000</td>\n",
       "      <td>2.000000</td>\n",
       "      <td>2.000000</td>\n",
       "      <td>2.000000</td>\n",
       "      <td>1.000000</td>\n",
       "      <td>1.000000</td>\n",
       "      <td>1.000000</td>\n",
       "      <td>2.000000</td>\n",
       "      <td>0.000000</td>\n",
       "      <td>4.000000</td>\n",
       "      <td>3.000000</td>\n",
       "      <td>3.000000</td>\n",
       "      <td>1.000000</td>\n",
       "      <td>2.000000</td>\n",
       "      <td>4.000000</td>\n",
       "      <td>4.000000</td>\n",
       "      <td>11.000000</td>\n",
       "      <td>11.000000</td>\n",
       "      <td>11.000000</td>\n",
       "    </tr>\n",
       "    <tr>\n",
       "      <th>75%</th>\n",
       "      <td>18.000000</td>\n",
       "      <td>4.000000</td>\n",
       "      <td>3.000000</td>\n",
       "      <td>3.000000</td>\n",
       "      <td>3.000000</td>\n",
       "      <td>3.000000</td>\n",
       "      <td>1.000000</td>\n",
       "      <td>2.000000</td>\n",
       "      <td>2.000000</td>\n",
       "      <td>0.000000</td>\n",
       "      <td>5.000000</td>\n",
       "      <td>4.000000</td>\n",
       "      <td>4.000000</td>\n",
       "      <td>2.000000</td>\n",
       "      <td>3.000000</td>\n",
       "      <td>5.000000</td>\n",
       "      <td>8.000000</td>\n",
       "      <td>13.000000</td>\n",
       "      <td>13.000000</td>\n",
       "      <td>14.000000</td>\n",
       "    </tr>\n",
       "    <tr>\n",
       "      <th>max</th>\n",
       "      <td>22.000000</td>\n",
       "      <td>4.000000</td>\n",
       "      <td>4.000000</td>\n",
       "      <td>4.000000</td>\n",
       "      <td>4.000000</td>\n",
       "      <td>3.000000</td>\n",
       "      <td>2.000000</td>\n",
       "      <td>4.000000</td>\n",
       "      <td>4.000000</td>\n",
       "      <td>3.000000</td>\n",
       "      <td>5.000000</td>\n",
       "      <td>5.000000</td>\n",
       "      <td>5.000000</td>\n",
       "      <td>5.000000</td>\n",
       "      <td>5.000000</td>\n",
       "      <td>5.000000</td>\n",
       "      <td>75.000000</td>\n",
       "      <td>19.000000</td>\n",
       "      <td>19.000000</td>\n",
       "      <td>20.000000</td>\n",
       "    </tr>\n",
       "  </tbody>\n",
       "</table>\n",
       "</div>"
      ],
      "text/plain": [
       "              Age  Mother's Ed  Father's Ed  Mother's Job  Father's Job  \\\n",
       "count  395.000000   395.000000   395.000000    395.000000    395.000000   \n",
       "mean    16.696203     2.749367     2.521519      2.169620      2.281013   \n",
       "std      1.276043     1.094735     1.088201      1.227473      0.863542   \n",
       "min     15.000000     0.000000     0.000000      0.000000      0.000000   \n",
       "25%     16.000000     2.000000     2.000000      2.000000      2.000000   \n",
       "50%     17.000000     3.000000     2.000000      2.000000      2.000000   \n",
       "75%     18.000000     4.000000     3.000000      3.000000      3.000000   \n",
       "max     22.000000     4.000000     4.000000      4.000000      4.000000   \n",
       "\n",
       "       Reason School    Guardian  Travel Time  Study Time  Past Failures  \\\n",
       "count     395.000000  395.000000   395.000000  395.000000     395.000000   \n",
       "mean        1.255696    0.853165     1.448101    2.035443       0.334177   \n",
       "std         1.208236    0.536684     0.697505    0.839240       0.743651   \n",
       "min         0.000000    0.000000     1.000000    1.000000       0.000000   \n",
       "25%         0.000000    1.000000     1.000000    1.000000       0.000000   \n",
       "50%         1.000000    1.000000     1.000000    2.000000       0.000000   \n",
       "75%         3.000000    1.000000     2.000000    2.000000       0.000000   \n",
       "max         3.000000    2.000000     4.000000    4.000000       3.000000   \n",
       "\n",
       "       Family Closeness   Free Time  Social Life  Workday Alc  Weekend Alc  \\\n",
       "count        395.000000  395.000000   395.000000   395.000000   395.000000   \n",
       "mean           3.944304    3.235443     3.108861     1.481013     2.291139   \n",
       "std            0.896659    0.998862     1.113278     0.890741     1.287897   \n",
       "min            1.000000    1.000000     1.000000     1.000000     1.000000   \n",
       "25%            4.000000    3.000000     2.000000     1.000000     1.000000   \n",
       "50%            4.000000    3.000000     3.000000     1.000000     2.000000   \n",
       "75%            5.000000    4.000000     4.000000     2.000000     3.000000   \n",
       "max            5.000000    5.000000     5.000000     5.000000     5.000000   \n",
       "\n",
       "           Health      Absent  First Grade  Second Grade  Final Grade  \n",
       "count  395.000000  395.000000   395.000000    395.000000   395.000000  \n",
       "mean     3.554430    5.708861    10.908861     10.713924    10.415190  \n",
       "std      1.390303    8.003096     3.319195      3.761505     4.581443  \n",
       "min      1.000000    0.000000     3.000000      0.000000     0.000000  \n",
       "25%      3.000000    0.000000     8.000000      9.000000     8.000000  \n",
       "50%      4.000000    4.000000    11.000000     11.000000    11.000000  \n",
       "75%      5.000000    8.000000    13.000000     13.000000    14.000000  \n",
       "max      5.000000   75.000000    19.000000     19.000000    20.000000  "
      ]
     },
     "execution_count": 17,
     "metadata": {},
     "output_type": "execute_result"
    }
   ],
   "source": [
    "# check various key statistical truths of the dataset;\n",
    "\n",
    "df_maths.describe()"
   ]
  },
  {
   "cell_type": "code",
   "execution_count": 18,
   "id": "f360419a-39b9-4f8a-adca-b9dba05b13a6",
   "metadata": {},
   "outputs": [
    {
     "data": {
      "text/plain": [
       "Age                       8\n",
       "Mother's Ed               5\n",
       "Father's Ed               5\n",
       "Mother's Job              5\n",
       "Father's Job              5\n",
       "Reason School             4\n",
       "Guardian                  3\n",
       "Travel Time               4\n",
       "Study Time                4\n",
       "Past Failures             4\n",
       "Family Closeness          5\n",
       "Free Time                 5\n",
       "Social Life               5\n",
       "Workday Alc               5\n",
       "Weekend Alc               5\n",
       "Health                    5\n",
       "Absent                   34\n",
       "First Grade              17\n",
       "Second Grade             17\n",
       "Final Grade              18\n",
       "School MS                 2\n",
       "Male                      2\n",
       "Urban Address             2\n",
       "Small Family              2\n",
       "Parental Cohabitation     2\n",
       "School Support            2\n",
       "Familial Support          2\n",
       "Extra Tutoring            2\n",
       "Extra Curricular          2\n",
       "Nursery                   2\n",
       "Higher Ed                 2\n",
       "Home WiFi                 2\n",
       "In Relationship           2\n",
       "dtype: int64"
      ]
     },
     "execution_count": 18,
     "metadata": {},
     "output_type": "execute_result"
    }
   ],
   "source": [
    "# check for unique values;\n",
    "\n",
    "df_maths.nunique()"
   ]
  },
  {
   "cell_type": "code",
   "execution_count": 19,
   "id": "55e1695f-8e93-4409-b62b-574e276c3df8",
   "metadata": {},
   "outputs": [
    {
     "name": "stdout",
     "output_type": "stream",
     "text": [
      "                            Age  Mother's Ed  Father's Ed  Mother's Job  \\\n",
      "Age                    1.000000    -0.163658    -0.163438     -0.069104   \n",
      "Mother's Ed           -0.163658     1.000000     0.623455      0.454805   \n",
      "Father's Ed           -0.163438     0.623455     1.000000      0.243327   \n",
      "Mother's Job          -0.069104     0.454805     0.243327      1.000000   \n",
      "Father's Job          -0.035191     0.157920     0.200169      0.196758   \n",
      "Reason School         -0.015337     0.117653     0.043099      0.022022   \n",
      "Guardian               0.290485    -0.023918    -0.133644      0.014787   \n",
      "Travel Time            0.070641    -0.171639    -0.158194     -0.109752   \n",
      "Study Time            -0.004140     0.064944    -0.009175     -0.023097   \n",
      "Past Failures          0.243665    -0.236680    -0.250408     -0.073377   \n",
      "Family Closeness       0.053940    -0.003914    -0.001370      0.038584   \n",
      "Free Time              0.016434     0.030891    -0.012846      0.114321   \n",
      "Social Life            0.126964     0.064094     0.043105      0.003169   \n",
      "Workday Alc            0.131125     0.019834     0.002386      0.076076   \n",
      "Weekend Alc            0.117276    -0.047123    -0.012631     -0.012051   \n",
      "Health                -0.062187    -0.046878     0.014742      0.065220   \n",
      "Absent                 0.175230     0.100285     0.024473      0.050254   \n",
      "First Grade           -0.064081     0.205341     0.190270      0.081674   \n",
      "Second Grade          -0.143474     0.215527     0.164893      0.097390   \n",
      "Final Grade           -0.161579     0.217147     0.152457      0.102082   \n",
      "School MS              0.377610    -0.133333    -0.079807     -0.056670   \n",
      "Male                  -0.028606     0.078228     0.034878      0.191421   \n",
      "Urban Address         -0.146722     0.138804     0.072178      0.108818   \n",
      "Small Family           0.037847    -0.043068    -0.058879      0.071386   \n",
      "Parental Cohabitation  0.029598    -0.123565    -0.088730     -0.054476   \n",
      "School Support        -0.251811    -0.036029     0.037530     -0.040958   \n",
      "Familial Support      -0.140609     0.183727     0.185496      0.050667   \n",
      "Extra Tutoring        -0.035933     0.159700     0.086981      0.096566   \n",
      "Extra Curricular      -0.103063     0.108277     0.112643      0.098754   \n",
      "Nursery               -0.086632     0.193263     0.157177      0.095848   \n",
      "Higher Ed             -0.209081     0.168845     0.174566      0.097887   \n",
      "Home WiFi             -0.112094     0.201463     0.127507      0.216969   \n",
      "In Relationship        0.164669     0.039681     0.015602     -0.062999   \n",
      "\n",
      "                       Father's Job  Reason School  Guardian  Travel Time  \\\n",
      "Age                       -0.035191      -0.015337  0.290485     0.070641   \n",
      "Mother's Ed                0.157920       0.117653 -0.023918    -0.171639   \n",
      "Father's Ed                0.200169       0.043099 -0.133644    -0.158194   \n",
      "Mother's Job               0.196758       0.022022  0.014787    -0.109752   \n",
      "Father's Job               1.000000      -0.027688 -0.080511     0.055878   \n",
      "Reason School             -0.027688       1.000000 -0.000664    -0.067034   \n",
      "Guardian                  -0.080511      -0.000664  1.000000    -0.000069   \n",
      "Travel Time                0.055878      -0.067034 -0.000069     1.000000   \n",
      "Study Time                -0.076817       0.146228  0.011584    -0.100909   \n",
      "Past Failures             -0.008275      -0.067094  0.180494     0.092239   \n",
      "Family Closeness           0.013709      -0.014934  0.040979    -0.016808   \n",
      "Free Time                 -0.047475      -0.066834  0.045716    -0.017025   \n",
      "Social Life                0.010340      -0.050937  0.056557     0.028540   \n",
      "Workday Alc                0.077897      -0.048539 -0.005847     0.138325   \n",
      "Weekend Alc                0.070024      -0.044699 -0.040810     0.134116   \n",
      "Health                    -0.018058      -0.157132 -0.067497     0.007501   \n",
      "Absent                     0.008196       0.116909  0.163752    -0.012944   \n",
      "First Grade                0.057661       0.099491 -0.041727    -0.093040   \n",
      "Second Grade               0.067006       0.117775 -0.087495    -0.153198   \n",
      "Final Grade                0.042286       0.121994 -0.070109    -0.117142   \n",
      "School MS                  0.018974      -0.090010  0.011109     0.242308   \n",
      "Male                       0.084957      -0.095867 -0.071343     0.059722   \n",
      "Urban Address             -0.001911      -0.047891 -0.044512    -0.328096   \n",
      "Small Family              -0.084448      -0.019212 -0.002718     0.063493   \n",
      "Parental Cohabitation      0.033892      -0.003553 -0.108715     0.028265   \n",
      "School Support            -0.011657       0.018516 -0.063545    -0.009246   \n",
      "Familial Support          -0.030159       0.090964 -0.004516    -0.003286   \n",
      "Extra Tutoring            -0.040435       0.133559  0.043390    -0.066420   \n",
      "Extra Curricular           0.032391       0.115848 -0.023488    -0.007766   \n",
      "Nursery                   -0.030812       0.055659 -0.080645    -0.033338   \n",
      "Higher Ed                 -0.045250       0.058504 -0.020179    -0.083508   \n",
      "Home WiFi                  0.035777       0.049916 -0.059394    -0.111302   \n",
      "In Relationship           -0.000583       0.018894  0.093945     0.021962   \n",
      "\n",
      "                       Study Time  Past Failures  ...  Small Family  \\\n",
      "Age                     -0.004140       0.243665  ...      0.037847   \n",
      "Mother's Ed              0.064944      -0.236680  ...     -0.043068   \n",
      "Father's Ed             -0.009175      -0.250408  ...     -0.058879   \n",
      "Mother's Job            -0.023097      -0.073377  ...      0.071386   \n",
      "Father's Job            -0.076817      -0.008275  ...     -0.084448   \n",
      "Reason School            0.146228      -0.067094  ...     -0.019212   \n",
      "Guardian                 0.011584       0.180494  ...     -0.002718   \n",
      "Travel Time             -0.100909       0.092239  ...      0.063493   \n",
      "Study Time               1.000000      -0.173563  ...     -0.073595   \n",
      "Past Failures           -0.173563       1.000000  ...     -0.015769   \n",
      "Family Closeness         0.039731      -0.044337  ...     -0.022776   \n",
      "Free Time               -0.143198       0.091987  ...      0.017695   \n",
      "Social Life             -0.063904       0.124561  ...      0.023064   \n",
      "Workday Alc             -0.196019       0.136047  ...      0.101521   \n",
      "Weekend Alc             -0.253785       0.141962  ...      0.103425   \n",
      "Health                  -0.075616       0.065827  ...     -0.028992   \n",
      "Absent                  -0.062700       0.063726  ...      0.035783   \n",
      "First Grade              0.160612      -0.354718  ...      0.071445   \n",
      "Second Grade             0.135880      -0.355896  ...      0.081223   \n",
      "Final Grade              0.097820      -0.360415  ...      0.081407   \n",
      "School MS               -0.090681       0.059804  ...      0.064866   \n",
      "Male                    -0.306268       0.044436  ...      0.089862   \n",
      "Urban Address           -0.020912      -0.078578  ...      0.072472   \n",
      "Small Family            -0.073595      -0.015769  ...      1.000000   \n",
      "Parental Cohabitation    0.024294      -0.003339  ...     -0.149612   \n",
      "School Support           0.037763      -0.000437  ...     -0.028642   \n",
      "Familial Support         0.145228      -0.055075  ...     -0.112893   \n",
      "Extra Tutoring           0.167220      -0.188039  ...     -0.013882   \n",
      "Extra Curricular         0.089877      -0.069341  ...     -0.000113   \n",
      "Nursery                  0.081325      -0.100734  ...      0.102088   \n",
      "Higher Ed                0.175081      -0.300316  ...     -0.005806   \n",
      "Home WiFi                0.059422      -0.063451  ...      0.000720   \n",
      "In Relationship          0.053285       0.093137  ...      0.034395   \n",
      "\n",
      "                       Parental Cohabitation  School Support  \\\n",
      "Age                                 0.029598       -0.251811   \n",
      "Mother's Ed                        -0.123565       -0.036029   \n",
      "Father's Ed                        -0.088730        0.037530   \n",
      "Mother's Job                       -0.054476       -0.040958   \n",
      "Father's Job                        0.033892       -0.011657   \n",
      "Reason School                      -0.003553        0.018516   \n",
      "Guardian                           -0.108715       -0.063545   \n",
      "Travel Time                         0.028265       -0.009246   \n",
      "Study Time                          0.024294        0.037763   \n",
      "Past Failures                      -0.003339       -0.000437   \n",
      "Family Closeness                    0.025179       -0.001345   \n",
      "Free Time                           0.038717       -0.045465   \n",
      "Social Life                         0.003459       -0.037698   \n",
      "Workday Alc                        -0.030590       -0.021485   \n",
      "Weekend Alc                         0.006045       -0.087152   \n",
      "Health                              0.022307       -0.034124   \n",
      "Absent                             -0.134937        0.022526   \n",
      "First Grade                        -0.016868       -0.212607   \n",
      "Second Grade                       -0.041382       -0.117385   \n",
      "Final Grade                        -0.058009       -0.082788   \n",
      "School MS                           0.045923       -0.139789   \n",
      "Male                                0.023443       -0.138271   \n",
      "Urban Address                      -0.042572        0.024712   \n",
      "Small Family                       -0.149612       -0.028642   \n",
      "Parental Cohabitation               1.000000       -0.042238   \n",
      "School Support                     -0.042238        1.000000   \n",
      "Familial Support                    0.019067        0.104681   \n",
      "Extra Tutoring                      0.046435       -0.020753   \n",
      "Extra Curricular                    0.097352        0.046032   \n",
      "Nursery                            -0.090615        0.045967   \n",
      "Higher Ed                          -0.040735        0.054486   \n",
      "Home WiFi                           0.070074       -0.009683   \n",
      "In Relationship                    -0.040451       -0.080716   \n",
      "\n",
      "                       Familial Support  Extra Tutoring  Extra Curricular  \\\n",
      "Age                           -0.140609       -0.035933         -0.103063   \n",
      "Mother's Ed                    0.183727        0.159700          0.108277   \n",
      "Father's Ed                    0.185496        0.086981          0.112643   \n",
      "Mother's Job                   0.050667        0.096566          0.098754   \n",
      "Father's Job                  -0.030159       -0.040435          0.032391   \n",
      "Reason School                  0.090964        0.133559          0.115848   \n",
      "Guardian                      -0.004516        0.043390         -0.023488   \n",
      "Travel Time                   -0.003286       -0.066420         -0.007766   \n",
      "Study Time                     0.145228        0.167220          0.089877   \n",
      "Past Failures                 -0.055075       -0.188039         -0.069341   \n",
      "Family Closeness              -0.020436        0.000460          0.040687   \n",
      "Free Time                      0.010538       -0.064253          0.089728   \n",
      "Social Life                   -0.015631        0.010493          0.046088   \n",
      "Workday Alc                   -0.031575        0.062465         -0.066508   \n",
      "Weekend Alc                   -0.086688        0.060454         -0.037477   \n",
      "Health                         0.029297       -0.078132          0.023923   \n",
      "Absent                         0.024353        0.007435         -0.013610   \n",
      "First Grade                   -0.084569        0.039079          0.057010   \n",
      "Second Grade                  -0.059166        0.105198          0.050552   \n",
      "Final Grade                   -0.039157        0.101996          0.016100   \n",
      "School MS                     -0.164967       -0.017083         -0.116946   \n",
      "Male                          -0.151623       -0.129126          0.099833   \n",
      "Urban Address                  0.023903        0.052800         -0.051360   \n",
      "Small Family                  -0.112893       -0.013882         -0.000113   \n",
      "Parental Cohabitation          0.019067        0.046435          0.097352   \n",
      "School Support                 0.104681       -0.020753          0.046032   \n",
      "Familial Support               1.000000        0.293184         -0.001500   \n",
      "Extra Tutoring                 0.293184        1.000000         -0.021382   \n",
      "Extra Curricular              -0.001500       -0.021382          1.000000   \n",
      "Nursery                        0.059536        0.102143          0.002731   \n",
      "Higher Ed                      0.100815        0.189214          0.096484   \n",
      "Home WiFi                      0.103581        0.153132          0.048663   \n",
      "In Relationship                0.012440        0.005536          0.019651   \n",
      "\n",
      "                        Nursery  Higher Ed  Home WiFi  In Relationship  \n",
      "Age                   -0.086632  -0.209081  -0.112094         0.164669  \n",
      "Mother's Ed            0.193263   0.168845   0.201463         0.039681  \n",
      "Father's Ed            0.157177   0.174566   0.127507         0.015602  \n",
      "Mother's Job           0.095848   0.097887   0.216969        -0.062999  \n",
      "Father's Job          -0.030812  -0.045250   0.035777        -0.000583  \n",
      "Reason School          0.055659   0.058504   0.049916         0.018894  \n",
      "Guardian              -0.080645  -0.020179  -0.059394         0.093945  \n",
      "Travel Time           -0.033338  -0.083508  -0.111302         0.021962  \n",
      "Study Time             0.081325   0.175081   0.059422         0.053285  \n",
      "Past Failures         -0.100734  -0.300316  -0.063451         0.093137  \n",
      "Family Closeness      -0.003581   0.024319   0.032768        -0.063816  \n",
      "Free Time             -0.024696  -0.061244   0.051286        -0.011182  \n",
      "Social Life            0.004612  -0.039700   0.074370         0.007870  \n",
      "Workday Alc           -0.084849  -0.069828   0.036210         0.015121  \n",
      "Weekend Alc           -0.099534  -0.100340   0.011687        -0.010141  \n",
      "Health                -0.018475  -0.015895  -0.080189         0.026342  \n",
      "Absent                 0.019155  -0.056085   0.101701         0.153384  \n",
      "First Grade            0.069263   0.178264   0.071619        -0.037188  \n",
      "Second Grade           0.068146   0.179129   0.119439        -0.111774  \n",
      "Final Grade            0.051568   0.182465   0.098483        -0.129970  \n",
      "School MS             -0.089277  -0.024150  -0.133578         0.060700  \n",
      "Male                  -0.008203  -0.151056   0.044113        -0.102023  \n",
      "Urban Address          0.059589   0.042854   0.216842         0.005257  \n",
      "Small Family           0.102088  -0.005806   0.000720         0.034395  \n",
      "Parental Cohabitation -0.090615  -0.040735   0.070074        -0.040451  \n",
      "School Support         0.045967   0.054486  -0.009683        -0.080716  \n",
      "Familial Support       0.059536   0.100815   0.103581         0.012440  \n",
      "Extra Tutoring         0.102143   0.189214   0.153132         0.005536  \n",
      "Extra Curricular       0.002731   0.096484   0.048663         0.019651  \n",
      "Nursery                1.000000   0.054303   0.007830         0.027495  \n",
      "Higher Ed              0.054303   1.000000   0.020374        -0.105664  \n",
      "Home WiFi              0.007830   0.020374   1.000000         0.087122  \n",
      "In Relationship        0.027495  -0.105664   0.087122         1.000000  \n",
      "\n",
      "[33 rows x 33 columns]\n"
     ]
    }
   ],
   "source": [
    "# create a correlation matrix for the dataset, I want to see\n",
    "# which variables correlate to the final grade of each student;\n",
    "\n",
    "df_maths_corrmatrix = df_maths.corr(numeric_only = True)\n",
    "\n",
    "print(df_maths_corrmatrix)"
   ]
  },
  {
   "cell_type": "markdown",
   "id": "e09dee63-a96b-4cec-8808-44d32916cf58",
   "metadata": {},
   "source": [
    "# Visualisations..."
   ]
  },
  {
   "cell_type": "code",
   "execution_count": 20,
   "id": "d8c6573c-c634-4454-bc6b-deacdd3dc2b7",
   "metadata": {},
   "outputs": [
    {
     "data": {
      "image/png": "[encoded data removed]",
      "text/plain": [
       "<Figure size 640x480 with 1 Axes>"
      ]
     },
     "metadata": {},
     "output_type": "display_data"
    }
   ],
   "source": [
    "# a scatterplot to map the final result of each student depending on their first\n",
    "# two results;\n",
    "\n",
    "SCATTERPLOT(x_ = 'First Grade', y_ = 'Second Grade', hue_ = 'Final Grade', df = df_maths)"
   ]
  },
  {
   "cell_type": "code",
   "execution_count": 21,
   "id": "f82a657e-3ef3-4851-8d7e-0ea258e78eb5",
   "metadata": {},
   "outputs": [
    {
     "data": {
      "image/png": "[encoded data removed]",
      "text/plain": [
       "<Figure size 640x480 with 1 Axes>"
      ]
     },
     "metadata": {},
     "output_type": "display_data"
    }
   ],
   "source": [
    "# a scatterplot to display differences in academic performance across both schools;\n",
    "\n",
    "SCATTERPLOT(x_ = 'First Grade', y_ = 'Final Grade', hue_ = 'School MS', df = df_maths)"
   ]
  },
  {
   "cell_type": "code",
   "execution_count": 22,
   "id": "6f815d72-9f24-4a36-9b22-b42057276137",
   "metadata": {},
   "outputs": [
    {
     "data": {
      "image/png": "[encoded data removed]",
      "text/plain": [
       "<Figure size 640x480 with 1 Axes>"
      ]
     },
     "metadata": {},
     "output_type": "display_data"
    }
   ],
   "source": [
    "# a scatterplot to display academic performance levels in accordance to \n",
    "# whether the student has an Urban or Rural address;\n",
    "\n",
    "SCATTERPLOT(x_ = 'First Grade', y_ = 'Final Grade', hue_ = 'Urban Address', df = df_maths)"
   ]
  },
  {
   "cell_type": "markdown",
   "id": "2a3fb8a8-0815-4d38-8614-f91fb5284df8",
   "metadata": {},
   "source": [
    "## scatterplots which display academic performance based on a given student's parent's occupation and education;"
   ]
  },
  {
   "cell_type": "code",
   "execution_count": 23,
   "id": "55e0cacb-ad25-46e1-b75a-06e9aa2b2030",
   "metadata": {},
   "outputs": [
    {
     "data": {
      "image/png": "[encoded data removed]",
      "text/plain": [
       "<Figure size 640x480 with 1 Axes>"
      ]
     },
     "metadata": {},
     "output_type": "display_data"
    }
   ],
   "source": [
    "# fathers job;\n",
    "\n",
    "SCATTERPLOT(x_ = 'First Grade', y_ = 'Final Grade', hue_ = \"Father's Job\", df = df_maths)"
   ]
  },
  {
   "cell_type": "code",
   "execution_count": 24,
   "id": "940f3830-63e4-4273-92ac-cf7ebc1b0f2d",
   "metadata": {},
   "outputs": [
    {
     "data": {
      "image/png": "[encoded data removed]",
      "text/plain": [
       "<Figure size 640x480 with 1 Axes>"
      ]
     },
     "metadata": {},
     "output_type": "display_data"
    }
   ],
   "source": [
    "# mothers job;\n",
    "\n",
    "SCATTERPLOT(x_ = 'First Grade', y_ = 'Final Grade', hue_ = \"Mother's Job\", df = df_maths)"
   ]
  },
  {
   "cell_type": "code",
   "execution_count": 25,
   "id": "7b224972-1830-4d4a-b0b6-e52ed022ae2a",
   "metadata": {},
   "outputs": [
    {
     "data": {
      "image/png": "[encoded data removed]",
      "text/plain": [
       "<Figure size 640x480 with 1 Axes>"
      ]
     },
     "metadata": {},
     "output_type": "display_data"
    }
   ],
   "source": [
    "# fathers education;\n",
    "\n",
    "SCATTERPLOT(x_ = 'First Grade', y_ = 'Final Grade', hue_ = \"Father's Ed\", df = df_maths)"
   ]
  },
  {
   "cell_type": "code",
   "execution_count": 26,
   "id": "778d64e2-a113-4de5-9f06-535f48ab7061",
   "metadata": {},
   "outputs": [
    {
     "data": {
      "image/png": "[encoded data removed]",
      "text/plain": [
       "<Figure size 640x480 with 1 Axes>"
      ]
     },
     "metadata": {},
     "output_type": "display_data"
    }
   ],
   "source": [
    "# mothers education;\n",
    "\n",
    "SCATTERPLOT(x_ = 'First Grade', y_ = 'Final Grade', hue_ = \"Mother's Ed\", df = df_maths)"
   ]
  },
  {
   "cell_type": "code",
   "execution_count": 27,
   "id": "5920941b-66d2-4c65-b0e5-2365182a1eb1",
   "metadata": {},
   "outputs": [
    {
     "data": {
      "text/plain": [
       "<Axes: >"
      ]
     },
     "execution_count": 27,
     "metadata": {},
     "output_type": "execute_result"
    },
    {
     "data": {
      "image/png": "[encoded data removed]",
      "text/plain": [
       "<Figure size 640x480 with 2 Axes>"
      ]
     },
     "metadata": {},
     "output_type": "display_data"
    }
   ],
   "source": [
    "# generate a visual correlation matrix with a seaborn heatmap;\n",
    "\n",
    "sns.heatmap(df_maths_corrmatrix,\n",
    "            cmap = 'PuRd')"
   ]
  },
  {
   "cell_type": "markdown",
   "id": "ba2877ff-0acb-48bc-8173-47226a107be8",
   "metadata": {},
   "source": [
    "# at first glance, it is quite difficult to determine which factors heavily influence a students academic performance, as such the use of machine learning models can be quite valuable in this context.\n",
    "\n",
    "## I want to understand two things from this dataset...\n",
    "\n",
    "### 1) which factors have the biggest impact on a student's academic performance ? {regression problem}\n",
    "\n",
    "### 2) how can we predict whether a student will pass or fail their final exam ? {classification problem}"
   ]
  },
  {
   "cell_type": "markdown",
   "id": "03675678-9a4d-470f-8d96-46e1dd69aa66",
   "metadata": {},
   "source": [
    "## Scaling the Data..."
   ]
  },
  {
   "cell_type": "code",
   "execution_count": 28,
   "id": "b395dfa0-fdfe-4f17-b406-e77b77ccca51",
   "metadata": {},
   "outputs": [],
   "source": [
    "# I will first need to create two different target variables for each model,\n",
    "# a continuous target for the regressive random forests model, and a discrete\n",
    "# target for the support vector classifier model;\n",
    "\n",
    "features = df_maths.drop(columns = ['Final Grade'])\n",
    "\n",
    "# final grade is sliced from the dataset and assigned to {r_target}\n",
    "\n",
    "r_target = df_maths.iloc[:, 19:20]\n",
    "\n",
    "# final grade is converted to a binary value, if the grade is below the\n",
    "# given threshold (10): grade == 0 (fail), else if the grade is above the given \n",
    "# threshold: grade == 1 (pass)\n",
    "\n",
    "c_target = df_maths['Final Grade'].apply(lambda x: 1 if x >= 10 else 0)"
   ]
  },
  {
   "cell_type": "code",
   "execution_count": 29,
   "id": "7b2dc4c8-e065-4d8c-9f5c-9fafc2774b8f",
   "metadata": {},
   "outputs": [
    {
     "data": {
      "text/plain": [
       "0      0\n",
       "1      0\n",
       "2      1\n",
       "3      1\n",
       "4      1\n",
       "      ..\n",
       "390    0\n",
       "391    1\n",
       "392    0\n",
       "393    1\n",
       "394    0\n",
       "Name: Final Grade, Length: 395, dtype: int64"
      ]
     },
     "execution_count": 29,
     "metadata": {},
     "output_type": "execute_result"
    }
   ],
   "source": [
    "c_target"
   ]
  },
  {
   "cell_type": "code",
   "execution_count": 30,
   "id": "8f25ff25-32af-4f2e-ad1c-8173baa48390",
   "metadata": {},
   "outputs": [
    {
     "data": {
      "text/html": [
       "<div>\n",
       "<style scoped>\n",
       "    .dataframe tbody tr th:only-of-type {\n",
       "        vertical-align: middle;\n",
       "    }\n",
       "\n",
       "    .dataframe tbody tr th {\n",
       "        vertical-align: top;\n",
       "    }\n",
       "\n",
       "    .dataframe thead th {\n",
       "        text-align: right;\n",
       "    }\n",
       "</style>\n",
       "<table border=\"1\" class=\"dataframe\">\n",
       "  <thead>\n",
       "    <tr style=\"text-align: right;\">\n",
       "      <th></th>\n",
       "      <th>Final Grade</th>\n",
       "    </tr>\n",
       "  </thead>\n",
       "  <tbody>\n",
       "    <tr>\n",
       "      <th>0</th>\n",
       "      <td>6</td>\n",
       "    </tr>\n",
       "    <tr>\n",
       "      <th>1</th>\n",
       "      <td>6</td>\n",
       "    </tr>\n",
       "    <tr>\n",
       "      <th>2</th>\n",
       "      <td>10</td>\n",
       "    </tr>\n",
       "    <tr>\n",
       "      <th>3</th>\n",
       "      <td>15</td>\n",
       "    </tr>\n",
       "    <tr>\n",
       "      <th>4</th>\n",
       "      <td>10</td>\n",
       "    </tr>\n",
       "    <tr>\n",
       "      <th>...</th>\n",
       "      <td>...</td>\n",
       "    </tr>\n",
       "    <tr>\n",
       "      <th>390</th>\n",
       "      <td>9</td>\n",
       "    </tr>\n",
       "    <tr>\n",
       "      <th>391</th>\n",
       "      <td>16</td>\n",
       "    </tr>\n",
       "    <tr>\n",
       "      <th>392</th>\n",
       "      <td>7</td>\n",
       "    </tr>\n",
       "    <tr>\n",
       "      <th>393</th>\n",
       "      <td>10</td>\n",
       "    </tr>\n",
       "    <tr>\n",
       "      <th>394</th>\n",
       "      <td>9</td>\n",
       "    </tr>\n",
       "  </tbody>\n",
       "</table>\n",
       "<p>395 rows × 1 columns</p>\n",
       "</div>"
      ],
      "text/plain": [
       "     Final Grade\n",
       "0              6\n",
       "1              6\n",
       "2             10\n",
       "3             15\n",
       "4             10\n",
       "..           ...\n",
       "390            9\n",
       "391           16\n",
       "392            7\n",
       "393           10\n",
       "394            9\n",
       "\n",
       "[395 rows x 1 columns]"
      ]
     },
     "execution_count": 30,
     "metadata": {},
     "output_type": "execute_result"
    }
   ],
   "source": [
    "r_target"
   ]
  },
  {
   "cell_type": "markdown",
   "id": "8e680cfd-9d39-4b92-8bd5-49d71b3eb005",
   "metadata": {},
   "source": [
    "# dataset splits\n",
    "\n",
    "## the dataset will be split 3 times, \n",
    "\n",
    "### 75/25 train/test\n",
    "### 85/15 train/test\n",
    "### 90/10 train/test"
   ]
  },
  {
   "cell_type": "code",
   "execution_count": 31,
   "id": "77e03146-8931-4f81-ae5e-efd53f1ab857",
   "metadata": {},
   "outputs": [],
   "source": [
    "# regression train/test/split;\n",
    "\n",
    "rfeatures_train_75, rfeatures_test_25, rtarget_train_75, rtarget_test_25 = train_test_split(features, \n",
    "                                                                           r_target, \n",
    "                                                                           random_state = 42,  \n",
    "                                                                           test_size = 0.25) \n",
    "\n",
    "# classification train/test/split;\n",
    "\n",
    "cfeatures_train_75, cfeatures_test_25, ctarget_train_75, ctarget_test_25 = train_test_split(features, \n",
    "                                                                           c_target, \n",
    "                                                                           random_state = 42,  \n",
    "                                                                           test_size = 0.25) \n",
    "\n",
    "# {StandardScaler()} is instantiated to {scaler};\n",
    "\n",
    "scaler = StandardScaler()\n",
    "\n",
    "# train/test sets for both the classification and regressive models are scaled;\n",
    "\n",
    "rtrain_features_scaled_75 = scaler.fit_transform(rfeatures_train_75)\n",
    "rtest_features_scaled_25 = scaler.transform(rfeatures_test_25)\n",
    "rtrain_target_scaled_75 = scaler.fit_transform(rtarget_train_75)\n",
    "rtest_target_scaled_25 = scaler.transform(rtarget_test_25)\n",
    "\n",
    "ctrain_features_scaled_75 = scaler.fit_transform(cfeatures_train_75)\n",
    "ctest_features_scaled_25 = scaler.transform(cfeatures_test_25)"
   ]
  },
  {
   "cell_type": "markdown",
   "id": "200f5dab-c88d-45a3-92ae-b4dcfb89997e",
   "metadata": {},
   "source": [
    "# Principal Component Analysis..."
   ]
  },
  {
   "cell_type": "code",
   "execution_count": 32,
   "id": "a5ed632d-b341-4196-a5b9-27008f8fdbd8",
   "metadata": {},
   "outputs": [],
   "source": [
    "# dimensionality reduction train/test sets are also created\n",
    "# for both the regression and classification sets;\n",
    "\n",
    "pca = PCA()\n",
    "pca.n_components = 20\n",
    "rtrain_features_pca_75 = pca.fit_transform(rtrain_features_scaled_75)\n",
    "rtest_features_pca_25 = pca.transform(rtest_features_scaled_25)\n",
    "\n",
    "ctrain_features_pca_75 = pca.fit_transform(ctrain_features_scaled_75)\n",
    "ctest_features_pca_25 = pca.transform(ctest_features_scaled_25)"
   ]
  },
  {
   "cell_type": "markdown",
   "id": "2cbbbf38-cdd7-4a1f-a1fc-9ac835257909",
   "metadata": {},
   "source": [
    "### ML TRAINING (TRAIN, TEST, SPLIT):"
   ]
  },
  {
   "cell_type": "markdown",
   "id": "6e1410eb-5d2f-480a-9cda-dccb6e0af601",
   "metadata": {},
   "source": [
    "# Random Forest..."
   ]
  },
  {
   "cell_type": "markdown",
   "id": "6804566f-4ee3-4fe1-98d4-59156e0fb259",
   "metadata": {},
   "source": [
    "### without scaling;"
   ]
  },
  {
   "cell_type": "code",
   "execution_count": 33,
   "id": "371dfa19-4752-4d98-803b-d2fab8fab48e",
   "metadata": {},
   "outputs": [
    {
     "name": "stdout",
     "output_type": "stream",
     "text": [
      "Performance Score: 0.8716775467904373\n",
      "computation time in seconds: 0.07759761810302734\n"
     ]
    }
   ],
   "source": [
    "RandomForest = RandomForestRegressor(n_estimators = 15, random_state = 42)\n",
    "\n",
    "beginning = time.time()\n",
    "RandomForest.fit(rfeatures_train_75, rtarget_train_75)\n",
    "target_prediction_RF = RandomForest.predict(rfeatures_test_25)\n",
    "end = time.time() - beginning\n",
    "\n",
    "\n",
    "print(f'Performance Score: {RandomForest.score(rfeatures_test_25, rtarget_test_25)}')\n",
    "print(f'computation time in seconds: {end}')"
   ]
  },
  {
   "cell_type": "markdown",
   "id": "ede205e6-aaa3-4488-a553-33d83ea29c6a",
   "metadata": {},
   "source": [
    "### with scaling;"
   ]
  },
  {
   "cell_type": "code",
   "execution_count": 34,
   "id": "280db475-36b5-4dd2-96d3-c229111df171",
   "metadata": {},
   "outputs": [
    {
     "name": "stdout",
     "output_type": "stream",
     "text": [
      "Performance Score: 0.8721491270804362\n",
      "computation time in seconds: 0.10624885559082031\n"
     ]
    }
   ],
   "source": [
    "# as we can see from the R2 performance result, the scaled\n",
    "# random forest training resulted in the most optimal model performance\n",
    "# within the 75/25 split set, both in terms of computational\n",
    "# efficiency and accuracy;\n",
    "\n",
    "beginning = time.time()\n",
    "RandomForest.fit(rtrain_features_scaled_75, rtarget_train_75)\n",
    "target_prediction_RF = RandomForest.predict(rtest_features_scaled_25)\n",
    "end = time.time() - beginning\n",
    "\n",
    "print(f'Performance Score: {RandomForest.score(rtest_features_scaled_25, rtarget_test_25)}')\n",
    "print(f'computation time in seconds: {end}')"
   ]
  },
  {
   "cell_type": "markdown",
   "id": "71a68c67-a9fe-4d9a-bb0b-c2a52112caf4",
   "metadata": {},
   "source": [
    "### with dimensionality reduction;"
   ]
  },
  {
   "cell_type": "code",
   "execution_count": 35,
   "id": "a3ac97a7-9e30-4717-ad48-af6b9f05a7c5",
   "metadata": {},
   "outputs": [
    {
     "name": "stdout",
     "output_type": "stream",
     "text": [
      "Performance Score: 0.6253723305313694\n",
      "computation time in seconds: 0.09518980979919434\n"
     ]
    }
   ],
   "source": [
    "beginning = time.time()\n",
    "RandomForest.fit(rtrain_features_pca_75, rtarget_train_75)\n",
    "target_prediction_RF = RandomForest.predict(rtest_features_pca_25)\n",
    "end = time.time() - beginning\n",
    "\n",
    "print(f'Performance Score: {RandomForest.score(pca.transform(rtest_features_scaled_25), rtarget_test_25)}')\n",
    "print(f'computation time in seconds: {end}')"
   ]
  },
  {
   "cell_type": "markdown",
   "id": "74592eed-7c15-4207-ab3b-29a0d18e513d",
   "metadata": {},
   "source": [
    "# Support Vector Machine..."
   ]
  },
  {
   "cell_type": "markdown",
   "id": "d42ec147-58f8-499b-86ed-829ca227f760",
   "metadata": {},
   "source": [
    "### without scaling;"
   ]
  },
  {
   "cell_type": "code",
   "execution_count": 36,
   "id": "87f9d69c-9cea-48a0-b167-c817cdf26b2a",
   "metadata": {},
   "outputs": [
    {
     "name": "stdout",
     "output_type": "stream",
     "text": [
      "Performance Score: 0.9292929292929293\n",
      "computation time in seconds: 0.027628421783447266\n"
     ]
    }
   ],
   "source": [
    "# the support vector model training instance\n",
    "# that leveraged unscaled data provided optimal results\n",
    "# in terms of computation speed and accuracy within\n",
    "# the 75/25 split set;\n",
    "\n",
    "SupportVector = SVC(kernel = 'linear')\n",
    "\n",
    "beginning = time.time()\n",
    "SupportVector.fit(cfeatures_train_75, ctarget_train_75)\n",
    "target_prediction_SV = SupportVector.predict(cfeatures_test_25)\n",
    "end = time.time() - beginning\n",
    "\n",
    "print(f'Performance Score: {SupportVector.score(cfeatures_test_25, ctarget_test_25)}')\n",
    "print(f'computation time in seconds: {end}')"
   ]
  },
  {
   "cell_type": "markdown",
   "id": "4ba95483-cb2b-48fc-b9af-89723a6e7cc9",
   "metadata": {},
   "source": [
    "### with scaling;"
   ]
  },
  {
   "cell_type": "code",
   "execution_count": 37,
   "id": "e9b4ce1b-6fde-4701-b753-c61d6978eea0",
   "metadata": {},
   "outputs": [
    {
     "name": "stdout",
     "output_type": "stream",
     "text": [
      "Performance Score: 0.9292929292929293\n",
      "computation time in seconds: 0.014528512954711914\n"
     ]
    }
   ],
   "source": [
    "beginning = time.time()\n",
    "SupportVector.fit(ctrain_features_scaled_75, ctarget_train_75)\n",
    "target_prediction_SV = SupportVector.predict(ctest_features_scaled_25)\n",
    "end = time.time() - beginning\n",
    "\n",
    "print(f'Performance Score: {SupportVector.score(ctest_features_scaled_25, ctarget_test_25)}')\n",
    "print(f'computation time in seconds: {end}')"
   ]
  },
  {
   "cell_type": "markdown",
   "id": "345647fe-5e01-4bac-94d8-83d80eea0734",
   "metadata": {},
   "source": [
    "### with dimensionality reduction;"
   ]
  },
  {
   "cell_type": "code",
   "execution_count": 38,
   "id": "18363540-412a-4eed-a364-2dcd6e9a346b",
   "metadata": {},
   "outputs": [
    {
     "name": "stdout",
     "output_type": "stream",
     "text": [
      "Performance Score: 0.898989898989899\n",
      "computation time in seconds: 0.021671772003173828\n"
     ]
    }
   ],
   "source": [
    "beginning = time.time()\n",
    "SupportVector.fit(ctrain_features_pca_75, ctarget_train_75)\n",
    "target_prediction_SV = SupportVector.predict(ctest_features_pca_25)\n",
    "end = time.time() - beginning\n",
    "\n",
    "print(f'Performance Score: {SupportVector.score(pca.transform(ctest_features_scaled_25), ctarget_test_25)}')\n",
    "print(f'computation time in seconds: {end}')"
   ]
  },
  {
   "cell_type": "markdown",
   "id": "5af7bfb9-7fb4-4493-8d01-f3761e12348b",
   "metadata": {},
   "source": [
    "## the same scaling and dimensionality reduction processes are repeated \n",
    "## for the 85/15 split set..."
   ]
  },
  {
   "cell_type": "code",
   "execution_count": 39,
   "id": "6e90de5e-2201-44e9-bb14-009a6999d188",
   "metadata": {},
   "outputs": [],
   "source": [
    "rfeatures_train_85, rfeatures_test_15, rtarget_train_85, rtarget_test_15 = train_test_split(features, \n",
    "                                                                                            r_target, \n",
    "                                                                                            random_state = 42,  \n",
    "                                                                                            test_size = 0.15) \n",
    "\n",
    "cfeatures_train_85, cfeatures_test_15, ctarget_train_85, ctarget_test_15 = train_test_split(features, \n",
    "                                                                                            c_target, \n",
    "                                                                                            random_state = 42,  \n",
    "                                                                                            test_size = 0.15)\n",
    "\n",
    "rtrain_features_scaled_85 = scaler.fit_transform(rfeatures_train_85)\n",
    "rtest_features_scaled_15 = scaler.transform(rfeatures_test_15)\n",
    "rtrain_target_scaled_85 = scaler.fit_transform(rtarget_train_85)\n",
    "rtest_target_scaled_15 = scaler.transform(rtarget_test_15)\n",
    "\n",
    "ctrain_features_scaled_85 = scaler.fit_transform(cfeatures_train_85)\n",
    "ctest_features_scaled_15 = scaler.transform(cfeatures_test_15)"
   ]
  },
  {
   "cell_type": "code",
   "execution_count": 40,
   "id": "88a0207c-e45d-4870-a0f6-60fd83f44bfa",
   "metadata": {},
   "outputs": [],
   "source": [
    "pca = PCA()\n",
    "pca.n_components = 20\n",
    "rtrain_features_pca_85 = pca.fit_transform(rtrain_features_scaled_85)\n",
    "rtest_features_pca_15 = pca.transform(rtest_features_scaled_15)\n",
    "\n",
    "ctrain_features_pca_85 = pca.fit_transform(ctrain_features_scaled_85)\n",
    "ctest_features_pca_15 = pca.transform(ctest_features_scaled_15)"
   ]
  },
  {
   "cell_type": "markdown",
   "id": "ecb27b06-6282-40cb-9768-c9a6589bd486",
   "metadata": {},
   "source": [
    "# Random Forest..."
   ]
  },
  {
   "cell_type": "markdown",
   "id": "ea081f9d-387a-401d-a3af-24fba6feabf3",
   "metadata": {},
   "source": [
    "### without scaling;"
   ]
  },
  {
   "cell_type": "code",
   "execution_count": 41,
   "id": "0009d29d-d9fe-48a8-afed-b88a74fb2466",
   "metadata": {},
   "outputs": [
    {
     "name": "stdout",
     "output_type": "stream",
     "text": [
      "Performance Score: 0.7703230993417416\n",
      "computation time in seconds: 0.09122276306152344\n"
     ]
    }
   ],
   "source": [
    "RandomForest = RandomForestRegressor(n_estimators = 15, random_state = 42)\n",
    "\n",
    "beginning = time.time()\n",
    "RandomForest.fit(rfeatures_train_85, rtarget_train_85)\n",
    "target_prediction_RF = RandomForest.predict(rfeatures_test_15)\n",
    "end = time.time() - beginning\n",
    "\n",
    "\n",
    "print(f'Performance Score: {RandomForest.score(rfeatures_test_15, rtarget_test_15)}')\n",
    "print(f'computation time in seconds: {end}')"
   ]
  },
  {
   "cell_type": "markdown",
   "id": "b349eef5-a669-4a91-a39e-ca247b05e46d",
   "metadata": {},
   "source": [
    "### with scaling;"
   ]
  },
  {
   "cell_type": "code",
   "execution_count": 42,
   "id": "e4d7cbf0-64d7-476d-b58e-2321bc423aa1",
   "metadata": {},
   "outputs": [
    {
     "name": "stdout",
     "output_type": "stream",
     "text": [
      "Performance Score: 0.767606317940472\n",
      "computation time in seconds: 0.09857892990112305\n"
     ]
    }
   ],
   "source": [
    "beginning = time.time()\n",
    "RandomForest.fit(rtrain_features_scaled_85, rtarget_train_85)\n",
    "target_prediction_RF = RandomForest.predict(rtest_features_scaled_15)\n",
    "end = time.time() - beginning\n",
    "\n",
    "print(f'Performance Score: {RandomForest.score(rtest_features_scaled_15, rtarget_test_15)}')\n",
    "print(f'computation time in seconds: {end}')"
   ]
  },
  {
   "cell_type": "markdown",
   "id": "1ab20e50-ce2c-4f21-89f6-19508cad51c8",
   "metadata": {},
   "source": [
    "### with dimensionality reduction;"
   ]
  },
  {
   "cell_type": "code",
   "execution_count": 43,
   "id": "fc53adaf-8d9a-4807-a3d7-f67a4e188857",
   "metadata": {},
   "outputs": [
    {
     "name": "stdout",
     "output_type": "stream",
     "text": [
      "Performance Score: 0.6445873741688022\n",
      "computation time in seconds: 0.20385193824768066\n"
     ]
    }
   ],
   "source": [
    "beginning = time.time()\n",
    "RandomForest.fit(rtrain_features_pca_85, rtarget_train_85)\n",
    "target_prediction_RF = RandomForest.predict(rtest_features_pca_15)\n",
    "end = time.time() - beginning\n",
    "\n",
    "print(f'Performance Score: {RandomForest.score(pca.transform(rtest_features_scaled_15), rtarget_test_15)}')\n",
    "print(f'computation time in seconds: {end}')\n",
    "\n",
    "# each training instance produced suboptimal results in comparison to\n",
    "# the 75/25 split set"
   ]
  },
  {
   "cell_type": "markdown",
   "id": "147f53c4-0d02-4e8c-863e-c7d89b185f6d",
   "metadata": {},
   "source": [
    "# Support Vector Machine..."
   ]
  },
  {
   "cell_type": "markdown",
   "id": "77c6dc56-6aa0-4237-9687-35a6aa2f1f3d",
   "metadata": {},
   "source": [
    "### without scaling;"
   ]
  },
  {
   "cell_type": "code",
   "execution_count": 44,
   "id": "3e1ddeed-1b69-4134-bc7f-0fd88cdf8597",
   "metadata": {},
   "outputs": [
    {
     "name": "stdout",
     "output_type": "stream",
     "text": [
      "Performance Score: 0.95\n",
      "computation time in seconds: 0.021568775177001953\n"
     ]
    }
   ],
   "source": [
    "SupportVector = SVC(kernel = 'linear')\n",
    "\n",
    "beginning = time.time()\n",
    "SupportVector.fit(cfeatures_train_85, ctarget_train_85)\n",
    "target_prediction_SV = SupportVector.predict(cfeatures_test_15)\n",
    "end = time.time() - beginning\n",
    "\n",
    "print(f'Performance Score: {SupportVector.score(cfeatures_test_15, ctarget_test_15)}')\n",
    "print(f'computation time in seconds: {end}')"
   ]
  },
  {
   "cell_type": "markdown",
   "id": "55aa6e63-27fa-4858-9c27-fdc8f8be40ea",
   "metadata": {},
   "source": [
    "### with scaling;"
   ]
  },
  {
   "cell_type": "code",
   "execution_count": 45,
   "id": "ef0e11ab-bb1d-48dd-b406-f0639bef33dd",
   "metadata": {},
   "outputs": [
    {
     "name": "stdout",
     "output_type": "stream",
     "text": [
      "Performance Score: 0.9333333333333333\n",
      "computation time in seconds: 0.027558326721191406\n"
     ]
    }
   ],
   "source": [
    "beginning = time.time()\n",
    "SupportVector.fit(ctrain_features_scaled_85, ctarget_train_85)\n",
    "target_prediction_SV = SupportVector.predict(ctest_features_scaled_15)\n",
    "end = time.time() - beginning\n",
    "\n",
    "print(f'Performance Score: {SupportVector.score(ctest_features_scaled_15, ctarget_test_15)}')\n",
    "print(f'computation time in seconds: {end}')"
   ]
  },
  {
   "cell_type": "markdown",
   "id": "755842d7-5e25-4297-b459-bb04a0262c36",
   "metadata": {},
   "source": [
    "### with dimensionality reduction;"
   ]
  },
  {
   "cell_type": "code",
   "execution_count": 46,
   "id": "2f449e74-3a6a-4692-9de9-2c42f03a7c5a",
   "metadata": {},
   "outputs": [
    {
     "name": "stdout",
     "output_type": "stream",
     "text": [
      "Performance Score: 0.9\n",
      "computation time in seconds: 0.01824021339416504\n"
     ]
    }
   ],
   "source": [
    "# while the scaled and non-scaled training\n",
    "# instances provided higher accuracy results, \n",
    "# this instance excelled in computational speed, and maintained a high \n",
    "# accuracy score. Also considering the liklihood of overfitting occuring while using\n",
    "# dimensionality reduction is far lower than usual, I will deem\n",
    "# this training instance as being the most optimal thus far;\n",
    "\n",
    "beginning = time.time()\n",
    "SupportVector.fit(ctrain_features_pca_85, ctarget_train_85)\n",
    "target_prediction_SV = SupportVector.predict(ctest_features_pca_15)\n",
    "end = time.time() - beginning\n",
    "\n",
    "print(f'Performance Score: {SupportVector.score(pca.transform(ctest_features_scaled_15), ctarget_test_15)}')\n",
    "print(f'computation time in seconds: {end}')"
   ]
  },
  {
   "cell_type": "markdown",
   "id": "64700cce-2aeb-4b34-9467-2992779186d7",
   "metadata": {},
   "source": [
    "# the same scaling and dimensionality reduction processes are repeated\n",
    "# for the 90/10 split set..."
   ]
  },
  {
   "cell_type": "code",
   "execution_count": 47,
   "id": "232fb5e6-3c04-40de-9466-d4413a43325d",
   "metadata": {},
   "outputs": [],
   "source": [
    "rfeatures_train_90, rfeatures_test_10, rtarget_train_90, rtarget_test_10 = train_test_split(features, \n",
    "                                                                                            r_target, \n",
    "                                                                                            random_state = 42,  \n",
    "                                                                                            test_size = 0.10) \n",
    "\n",
    "cfeatures_train_90, cfeatures_test_10, ctarget_train_90, ctarget_test_10 = train_test_split(features, \n",
    "                                                                                            c_target, \n",
    "                                                                                            random_state = 42,  \n",
    "                                                                                            test_size = 0.10)\n",
    "\n",
    "rtrain_features_scaled_90 = scaler.fit_transform(rfeatures_train_90)\n",
    "rtest_features_scaled_10 = scaler.transform(rfeatures_test_10)\n",
    "rtrain_target_scaled_90 = scaler.fit_transform(rtarget_train_90)\n",
    "rtest_target_scaled_10 = scaler.transform(rtarget_test_10)\n",
    "\n",
    "ctrain_features_scaled_90 = scaler.fit_transform(cfeatures_train_90)\n",
    "ctest_features_scaled_10 = scaler.transform(cfeatures_test_10)"
   ]
  },
  {
   "cell_type": "code",
   "execution_count": 48,
   "id": "af52231e-5b32-4696-9572-2c8acacf0435",
   "metadata": {},
   "outputs": [],
   "source": [
    "pca = PCA()\n",
    "pca.n_components = 20\n",
    "rtrain_features_pca_90 = pca.fit_transform(rtrain_features_scaled_90)\n",
    "rtest_features_pca_10 = pca.transform(rtest_features_scaled_10)\n",
    "\n",
    "ctrain_features_pca_90 = pca.fit_transform(ctrain_features_scaled_90)\n",
    "ctest_features_pca_10 = pca.transform(ctest_features_scaled_10)"
   ]
  },
  {
   "cell_type": "markdown",
   "id": "dfb18b88-b157-4d08-a421-050a06aa63fd",
   "metadata": {},
   "source": [
    "# Random Forest..."
   ]
  },
  {
   "cell_type": "markdown",
   "id": "22deb6ce-08fd-4ce5-8ce8-cb9bad4793dc",
   "metadata": {},
   "source": [
    "### without scaling;"
   ]
  },
  {
   "cell_type": "code",
   "execution_count": 49,
   "id": "37600e8d-6d96-4ba1-a8ec-dbd065fcf23c",
   "metadata": {},
   "outputs": [
    {
     "name": "stdout",
     "output_type": "stream",
     "text": [
      "Performance Score: 0.7419790269376461\n",
      "computation time in seconds: 0.0909278392791748\n"
     ]
    }
   ],
   "source": [
    "RandomForest = RandomForestRegressor(n_estimators = 15, random_state = 42)\n",
    "\n",
    "beginning = time.time()\n",
    "RandomForest.fit(rfeatures_train_90, rtarget_train_90)\n",
    "target_prediction_RF = RandomForest.predict(rfeatures_test_10)\n",
    "end = time.time() - beginning\n",
    "\n",
    "\n",
    "print(f'Performance Score: {RandomForest.score(rfeatures_test_10, rtarget_test_10)}')\n",
    "print(f'computation time in seconds: {end}')"
   ]
  },
  {
   "cell_type": "markdown",
   "id": "2c76ec0e-a4d0-4eba-9c24-4854b08884f8",
   "metadata": {},
   "source": [
    "### with scaling;"
   ]
  },
  {
   "cell_type": "code",
   "execution_count": 50,
   "id": "ed0153a3-2934-43a1-81a7-fc9e55b5bcff",
   "metadata": {},
   "outputs": [
    {
     "name": "stdout",
     "output_type": "stream",
     "text": [
      "Performance Score: 0.7420240214398803\n",
      "computation time in seconds: 0.12772107124328613\n"
     ]
    }
   ],
   "source": [
    "beginning = time.time()\n",
    "RandomForest.fit(rtrain_features_scaled_90, rtarget_train_90)\n",
    "target_prediction_RF = RandomForest.predict(rtest_features_scaled_10)\n",
    "end = time.time() - beginning\n",
    "\n",
    "print(f'Performance Score: {RandomForest.score(rtest_features_scaled_10, rtarget_test_10)}')\n",
    "print(f'computation time in seconds: {end}')"
   ]
  },
  {
   "cell_type": "markdown",
   "id": "a7e35039-5c21-4bfd-b4cc-ce54f298010c",
   "metadata": {},
   "source": [
    "### with dimensionality reduction;"
   ]
  },
  {
   "cell_type": "code",
   "execution_count": 51,
   "id": "bf1750fe-d074-4116-aed3-b733f0086fd6",
   "metadata": {},
   "outputs": [
    {
     "name": "stdout",
     "output_type": "stream",
     "text": [
      "Performance Score: 0.5401336899147635\n",
      "computation time in seconds: 0.19412469863891602\n"
     ]
    }
   ],
   "source": [
    "beginning = time.time()\n",
    "RandomForest.fit(rtrain_features_pca_90, rtarget_train_90)\n",
    "target_prediction_RF = RandomForest.predict(rtest_features_pca_10)\n",
    "end = time.time() - beginning\n",
    "\n",
    "print(f'Performance Score: {RandomForest.score(pca.transform(rtest_features_scaled_10), rtarget_test_10)}')\n",
    "print(f'computation time in seconds: {end}')\n",
    "\n",
    "# the un-scaled training instance within the 75/25 split set\n",
    "# has produced the most optimal results overall."
   ]
  },
  {
   "cell_type": "markdown",
   "id": "e86738a7-6e4d-45b9-8549-5e8329303d43",
   "metadata": {},
   "source": [
    "# Support Vector Machine..."
   ]
  },
  {
   "cell_type": "markdown",
   "id": "a64ff814-0cf4-4d0f-a5ce-b856e4e69e63",
   "metadata": {},
   "source": [
    "### without scaling;"
   ]
  },
  {
   "cell_type": "code",
   "execution_count": 52,
   "id": "54dd8fc8-163a-43d3-9503-324f7afcea97",
   "metadata": {},
   "outputs": [
    {
     "name": "stdout",
     "output_type": "stream",
     "text": [
      "Performance Score: 0.95\n",
      "computation time in seconds: 0.05080914497375488\n"
     ]
    }
   ],
   "source": [
    "SupportVector = SVC(kernel = 'linear')\n",
    "\n",
    "beginning = time.time()\n",
    "SupportVector.fit(cfeatures_train_90, ctarget_train_90)\n",
    "target_prediction_SV = SupportVector.predict(cfeatures_test_10)\n",
    "end = time.time() - beginning\n",
    "\n",
    "print(f'Performance Score: {SupportVector.score(cfeatures_test_10, ctarget_test_10)}')\n",
    "print(f'computation time in seconds: {end}')"
   ]
  },
  {
   "cell_type": "markdown",
   "id": "c0f075f1-18d4-44db-afc3-32e08c0bb858",
   "metadata": {},
   "source": [
    "### with scaling;"
   ]
  },
  {
   "cell_type": "code",
   "execution_count": 53,
   "id": "2b9d6cc6-fee2-4761-b2fb-e641d9570393",
   "metadata": {},
   "outputs": [
    {
     "name": "stdout",
     "output_type": "stream",
     "text": [
      "Performance Score: 0.925\n",
      "computation time in seconds: 0.013441801071166992\n"
     ]
    }
   ],
   "source": [
    "beginning = time.time()\n",
    "SupportVector.fit(ctrain_features_scaled_90, ctarget_train_90)\n",
    "target_prediction_SV = SupportVector.predict(ctest_features_scaled_10)\n",
    "end = time.time() - beginning\n",
    "\n",
    "print(f'Performance Score: {SupportVector.score(ctest_features_scaled_10, ctarget_test_10)}')\n",
    "print(f'computation time in seconds: {end}')"
   ]
  },
  {
   "cell_type": "markdown",
   "id": "4802122f-9b85-4c3d-a338-b988d7eaaa6c",
   "metadata": {},
   "source": [
    "### with dimensionality reduction;"
   ]
  },
  {
   "cell_type": "code",
   "execution_count": 54,
   "id": "af556f42-b5ee-437e-b776-35f50a0111af",
   "metadata": {},
   "outputs": [
    {
     "name": "stdout",
     "output_type": "stream",
     "text": [
      "Performance Score: 0.85\n",
      "computation time in seconds: 0.023616313934326172\n"
     ]
    }
   ],
   "source": [
    "beginning = time.time()\n",
    "SupportVector.fit(ctrain_features_pca_90, ctarget_train_90)\n",
    "target_prediction_SV = SupportVector.predict(ctest_features_pca_10)\n",
    "end = time.time() - beginning\n",
    "\n",
    "print(f'Performance Score: {SupportVector.score(pca.transform(ctest_features_scaled_10), ctarget_test_10)}')\n",
    "print(f'computation time in seconds: {end}')\n",
    "\n",
    "# the dimensionality reduction training instance within the 85/10\n",
    "# split set has produced the most reliable and optimal \n",
    "# results overall."
   ]
  },
  {
   "cell_type": "markdown",
   "id": "c9195e97-1a85-4b1a-9e34-93a644d97520",
   "metadata": {},
   "source": [
    "# ML TESTING (K-FOLD CROSS-VALIDATION):"
   ]
  },
  {
   "cell_type": "markdown",
   "id": "406d7265-0eec-42ca-b401-dfc55302599d",
   "metadata": {},
   "source": [
    "### SVC (Support Vector Classifier)"
   ]
  },
  {
   "cell_type": "code",
   "execution_count": 55,
   "id": "0b52ab2a-b227-442f-ab12-983cbb1d10ad",
   "metadata": {},
   "outputs": [
    {
     "name": "stdout",
     "output_type": "stream",
     "text": [
      "SVM EVALUATION...\n",
      "\n",
      "Cross-Validation Accuracy: [0.93939394 0.90909091 0.90839695]\n",
      "\n",
      "Mean Accuracy: 0.9189605983499113\n"
     ]
    }
   ],
   "source": [
    "# the dataset will be split into three subgroups wherein one will be held\n",
    "# out for testing purposes (k-1)\n",
    "\n",
    "folds = 3\n",
    "KFold = KFold(n_splits = folds, shuffle = True, random_state = 42)\n",
    "\n",
    "SupportVector_cv_res = cross_val_score(SupportVector, features, c_target, cv = KFold)\n",
    "\n",
    "# results will be presented in a multi-line string to \n",
    "# avoid excessive printing;\n",
    "\n",
    "svm_accuracy = f'''SVM EVALUATION...\n",
    "\n",
    "Cross-Validation Accuracy: {SupportVector_cv_res}\n",
    "\n",
    "Mean Accuracy: {SupportVector_cv_res.mean()}'''\n",
    "\n",
    "print(svm_accuracy)"
   ]
  },
  {
   "cell_type": "markdown",
   "id": "37a0f1ac-5581-4e82-9671-2d969ef16986",
   "metadata": {},
   "source": [
    "### RFR (Random Forests Regressor)"
   ]
  },
  {
   "cell_type": "code",
   "execution_count": 56,
   "id": "b30128d0-cef9-4ec1-a5af-f00eb0eb37f1",
   "metadata": {},
   "outputs": [
    {
     "name": "stdout",
     "output_type": "stream",
     "text": [
      "RFR EVALUATION...\n",
      "\n",
      "Cross-Validation Accuracy: [0.84303955 0.90587298 0.79497371]\n",
      "\n",
      "Mean Accuracy: 0.8479620829354925\n"
     ]
    }
   ],
   "source": [
    "# the exact same process will be utilised to evaluate the RFR model;\n",
    "\n",
    "RandomForest_cv_res = cross_val_score(RandomForest, features, r_target, cv = KFold)\n",
    "\n",
    "rfr_accuracy = f'''RFR EVALUATION...\n",
    "\n",
    "Cross-Validation Accuracy: {RandomForest_cv_res}\n",
    "\n",
    "Mean Accuracy: {RandomForest_cv_res.mean()}'''\n",
    "\n",
    "print(rfr_accuracy)"
   ]
  },
  {
   "cell_type": "markdown",
   "id": "ea1a19d6-9759-4618-88fd-49b5660a7520",
   "metadata": {},
   "source": [
    "# HYPERPARAMETER TUNING WITH GRIDSEARCH CV:"
   ]
  },
  {
   "cell_type": "markdown",
   "id": "3f34344d-2b28-4492-94b3-03f58a085ff3",
   "metadata": {},
   "source": [
    "### RFR..."
   ]
  },
  {
   "cell_type": "code",
   "execution_count": 57,
   "id": "b09ff16a-28d5-4007-a796-75f95dddaf5f",
   "metadata": {},
   "outputs": [
    {
     "name": "stdout",
     "output_type": "stream",
     "text": [
      "Fitting 5 folds for each of 2400 candidates, totalling 12000 fits\n",
      "{'bootstrap': False, 'max_depth': 10, 'max_features': 'sqrt', 'min_samples_leaf': 1, 'min_samples_split': 2, 'n_estimators': 15}\n",
      "\n",
      "RandomForestRegressor(bootstrap=False, max_depth=10, max_features='sqrt',\n",
      "                      n_estimators=15, random_state=42)\n"
     ]
    }
   ],
   "source": [
    "# grid parameters will be assigned to variable {parameter}\n",
    "# using a dict datastructure;\n",
    "\n",
    "parameter = {'n_estimators': [10, 15, 25, 50],\n",
    "             'max_depth': [None, 10, 20, 30],\n",
    "             'min_samples_split': [2, 5, 10, 15, 20],\n",
    "             'min_samples_leaf': [1, 2, 3, 4, 5],\n",
    "             'max_features': ['auto', 'sqrt', 'log2'],\n",
    "             'bootstrap': [True, False]}\n",
    "\n",
    "# {GridSearchCV} will be instantiated to variable {grid}\n",
    "\n",
    "grid = GridSearchCV(RandomForest, \n",
    "                    parameter, \n",
    "                    refit = True, \n",
    "                    verbose = 1)\n",
    "\n",
    "# the train optimal train features will be fitted to the \n",
    "# grid search, which will search exhaustively for the \n",
    "# most optimal parameters;\n",
    "\n",
    "grid.fit(rtrain_features_scaled_75, rtrain_target_scaled_75)\n",
    "\n",
    "# results will then be printed out to the script;\n",
    "\n",
    "res_rf = f'''{grid.best_params_}\n",
    "\n",
    "{grid.best_estimator_}'''\n",
    "\n",
    "print(res_rf)"
   ]
  },
  {
   "cell_type": "code",
   "execution_count": 58,
   "id": "0c24b553-656c-49de-8712-79bf6450eef3",
   "metadata": {},
   "outputs": [
    {
     "name": "stdout",
     "output_type": "stream",
     "text": [
      "MEAN ABSOLUTE ERROR: 0.3065022867825619\n",
      "\n",
      "R2: 0.8121703887258059\n"
     ]
    }
   ],
   "source": [
    "# this optimal model will then be evaluated on its\n",
    "# ability to predict important features;\n",
    "\n",
    "predictions = grid.predict(rtest_features_scaled_25)\n",
    "\n",
    "# evaluation metrics for the RFR model will be Mean Absolute Error;\n",
    "\n",
    "mae = mean_absolute_error(rtest_target_scaled_25, predictions)\n",
    "\n",
    "# and r squared;\n",
    "\n",
    "r2 = r2_score(rtest_target_scaled_25, predictions)\n",
    "\n",
    "# these will then be printed and displayed within the script;\n",
    "\n",
    "r2_mae = f'''MEAN ABSOLUTE ERROR: {mae}\n",
    "\n",
    "R2: {r2}'''\n",
    "\n",
    "print(r2_mae)"
   ]
  },
  {
   "cell_type": "code",
   "execution_count": 59,
   "id": "401e67e6-bf7a-447a-9a31-cf7c48b72cd7",
   "metadata": {},
   "outputs": [
    {
     "data": {
      "image/png": "[encoded data removed]",
      "text/plain": [
       "<Figure size 1000x600 with 1 Axes>"
      ]
     },
     "metadata": {},
     "output_type": "display_data"
    }
   ],
   "source": [
    "# important features will then be displayed on a graph for \n",
    "# ease of interpretation;\n",
    "\n",
    "# as we can see two features stand out, Age and Father's education\n",
    "# appear to have a huge impact on a students academic performance.\n",
    "\n",
    "DISPLAY_IMPORTANCE(model = RandomForest,\n",
    "                   df_features = features,\n",
    "                   train_features = rtrain_features_scaled_75,\n",
    "                   title = 'DECISIVE FACTORS ON STUDENT PERFORMANCE',\n",
    "                   alignment = 'center',\n",
    "                   label = 'Feature Importance')"
   ]
  },
  {
   "cell_type": "markdown",
   "id": "d622984d-98a7-4da6-9dd8-836fdf936235",
   "metadata": {},
   "source": [
    "### SVM..."
   ]
  },
  {
   "cell_type": "code",
   "execution_count": 60,
   "id": "7d06f9ab-83ab-4823-b262-6358c9260d35",
   "metadata": {},
   "outputs": [
    {
     "name": "stdout",
     "output_type": "stream",
     "text": [
      "Fitting 5 folds for each of 6 candidates, totalling 30 fits\n",
      "{'C': 1, 'kernel': 'linear'}\n",
      "\n",
      "SVC(C=1, kernel='linear')\n"
     ]
    }
   ],
   "source": [
    "# parameters will be set for the grid search;\n",
    "\n",
    "parameter = {'C': [0.01, 0.1, 1, 10, 100, 1000],\n",
    "             'kernel': ['linear']}\n",
    "\n",
    "# {GridSearchCV()} will be instantiated to {grid} with these new\n",
    "# SVM parameters;\n",
    "\n",
    "grid = GridSearchCV(SupportVector, \n",
    "                    parameter, \n",
    "                    refit = True,\n",
    "                    verbose = 1)\n",
    "\n",
    "# optimal train/test sets as discovered during the \n",
    "# train/test/split phase will be fitted to the grid;\n",
    "\n",
    "grid.fit(ctrain_features_pca_85, ctarget_train_85)\n",
    "\n",
    "# and the optimal parameters discovered will be printed and displayed;\n",
    "\n",
    "print(grid.best_params_)\n",
    "print()\n",
    "print(grid.best_estimator_)"
   ]
  },
  {
   "cell_type": "code",
   "execution_count": 61,
   "id": "d5e7f3df-9386-486d-a402-20701a8bc2ba",
   "metadata": {},
   "outputs": [
    {
     "data": {
      "text/plain": [
       "array([0, 1, 0, 1, 0, 1, 1, 1, 0, 1, 1, 0, 1, 1, 1, 1, 0, 1, 1, 1, 1, 1,\n",
       "       1, 0, 1, 1, 1, 1, 1, 1, 0, 1, 1, 1, 0, 0, 0, 1, 1, 0, 0, 1, 1, 0,\n",
       "       1, 1, 1, 1, 1, 1, 1, 1, 1, 0, 0, 1, 1, 0, 1, 1])"
      ]
     },
     "execution_count": 61,
     "metadata": {},
     "output_type": "execute_result"
    }
   ],
   "source": [
    "# predictions made by the tuned model will be processed and displayed;\n",
    "\n",
    "predictions = grid.predict(ctest_features_pca_15)\n",
    "\n",
    "predictions"
   ]
  },
  {
   "cell_type": "code",
   "execution_count": 62,
   "id": "59c870b6-e6db-4f01-b414-dbd943417ded",
   "metadata": {},
   "outputs": [
    {
     "name": "stdout",
     "output_type": "stream",
     "text": [
      "              precision    recall  f1-score   support\n",
      "\n",
      "           0       0.88      0.79      0.83        19\n",
      "           1       0.91      0.95      0.93        41\n",
      "\n",
      "    accuracy                           0.90        60\n",
      "   macro avg       0.89      0.87      0.88        60\n",
      "weighted avg       0.90      0.90      0.90        60\n",
      "\n"
     ]
    }
   ],
   "source": [
    "# a classification report and confusion matrix will be used to \n",
    "# evaluate the performance of the SVC;\n",
    "\n",
    "print(classification_report(ctarget_test_15, predictions))\n",
    "\n",
    "# as we can see the model is capable of predicting whether a student\n",
    "# will pass or fail their final exam with a high degree of accuracy.\n",
    "# the results do not indicate that our model is over- or underfit;"
   ]
  },
  {
   "cell_type": "code",
   "execution_count": 63,
   "id": "bdaccb81-7358-4071-937d-077ac450d939",
   "metadata": {},
   "outputs": [
    {
     "data": {
      "image/png": "[encoded data removed]",
      "text/plain": [
       "<Figure size 800x800 with 2 Axes>"
      ]
     },
     "metadata": {},
     "output_type": "display_data"
    }
   ],
   "source": [
    "# a confusion matrix will be generated to display model performance\n",
    "# in an easily digested manner;\n",
    "\n",
    "CONFUSION_MATRIX(target = ctarget_test_15, \n",
    "                 prediction = predictions,\n",
    "                 label_x = 'True Grade',\n",
    "                 label_y = 'Predicted Grade')"
   ]
  }
 ],
 "metadata": {
  "kernelspec": {
   "display_name": "Python 3 (ipykernel)",
   "language": "python",
   "name": "python3"
  },
  "language_info": {
   "codemirror_mode": {
    "name": "ipython",
    "version": 3
   },
   "file_extension": ".py",
   "mimetype": "text/x-python",
   "name": "python",
   "nbconvert_exporter": "python",
   "pygments_lexer": "ipython3",
   "version": "3.12.4"
  }
 },
 "nbformat": 4,
 "nbformat_minor": 5
}
